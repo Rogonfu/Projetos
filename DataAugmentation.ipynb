{
 "cells": [
  {
   "cell_type": "code",
   "execution_count": 1,
   "metadata": {},
   "outputs": [],
   "source": [
    "import pandas as pd\n",
    "import random\n",
    "import re\n",
    "from random import randint\n",
    "from googletrans import Translator\n",
    "import openai"
   ]
  },
  {
   "cell_type": "code",
   "execution_count": null,
   "metadata": {},
   "outputs": [],
   "source": []
  },
  {
   "cell_type": "code",
   "execution_count": null,
   "metadata": {},
   "outputs": [],
   "source": [
    "# lendo conjunto original para aumentar suas amostras\n",
    "\n",
    "df = pd.read_csv('Caminho')\n",
    "df"
   ]
  },
  {
   "cell_type": "code",
   "execution_count": null,
   "metadata": {},
   "outputs": [],
   "source": []
  },
  {
   "cell_type": "code",
   "execution_count": null,
   "metadata": {},
   "outputs": [],
   "source": [
    "# Algoritmo para parafrasear o conjunto de dados com o modelo pré-treinado gpt-3.\n",
    "# Aceita somente o inglês, utilizado a base de spam.\n",
    "\n",
    "openai.api_key='Chave'\n",
    "\n",
    "new = []\n",
    "sentence = \"Rewrite a phrase preserving their original meaning: \" \n",
    "\n",
    "for i in range (0,232): # Percorre o conjunto de dados\n",
    "    var = df[df.index == i]\n",
    "    var = var['Mensagem'].to_string() # Mudar atributo de acordo com o conjunto\n",
    "    var = re.sub(\"^\\d+\\s\", \"\",var).strip()\n",
    "    \n",
    "    response = openai.Completion.create(\n",
    "        model=\"text-davinci-003\",\n",
    "        prompt=sentence+var,\n",
    "        temperature=0,\n",
    "        max_tokens=500,\n",
    "        frequency_penalty=0.0,\n",
    "        presence_penalty=0.0\n",
    "    )\n",
    "    \n",
    "    aux = response.choices[0].text[2:]\n",
    "    new.append(aux)"
   ]
  },
  {
   "cell_type": "code",
   "execution_count": null,
   "metadata": {},
   "outputs": [],
   "source": []
  },
  {
   "cell_type": "code",
   "execution_count": null,
   "metadata": {},
   "outputs": [],
   "source": [
    "# Algoritmo Random Deletion para o conjunto Livraria\n",
    "\n",
    "new = []\n",
    "\n",
    "for i in range(0,1163): # Percorre o conjunto de dados\n",
    "    var = df[df.index == i]\n",
    "    var = var['Titulo'].to_string() \n",
    "    var = re.sub(\"^\\d+\\s\", \"\",var).strip()\n",
    "    spl = var.split()\n",
    "    if len(spl) > 1:\n",
    "        if len(spl) <= 5:\n",
    "            rand = randint(0,len(spl)-1)\n",
    "            spl.pop(rand)\n",
    "            aux = ' '.join(spl)\n",
    "            new.append(aux)\n",
    "        else:\n",
    "            for n in range(0,4):\n",
    "                rand = randint(0,len(spl)-1)\n",
    "                spl.pop(rand)\n",
    "            aux = ' '.join(spl)\n",
    "            new.append(aux)\n",
    "    else:\n",
    "        new.append(var)"
   ]
  },
  {
   "cell_type": "code",
   "execution_count": null,
   "metadata": {},
   "outputs": [],
   "source": []
  },
  {
   "cell_type": "code",
   "execution_count": null,
   "metadata": {},
   "outputs": [],
   "source": [
    "# Algoritmo Random Deletion para o conjunto de spam\n",
    "\n",
    "new = []\n",
    "\n",
    "for i in range(0,232): # Percorre o conjunto de dados\n",
    "    var = df[df.index == i]\n",
    "    var = var['Mensagem'].to_string() \n",
    "    var = re.sub(\"^\\d+\\s\", \"\",var).strip()\n",
    "    spl = var.split()\n",
    "    if len(spl) > 1:\n",
    "        if len(spl) <= 5:\n",
    "            rand = randint(0,len(spl)-1)\n",
    "            spl.pop(rand)\n",
    "            aux = ' '.join(spl)\n",
    "            new.append(aux)\n",
    "        elif len(spl) <= 35:\n",
    "            for n in range(0,4):\n",
    "                rand = randint(0,len(spl)-1)\n",
    "                spl.pop(rand)\n",
    "            aux = ' '.join(spl)\n",
    "            new.append(aux)\n",
    "        else:\n",
    "            for n in range(0,10):\n",
    "                rand = randint(0,len(spl)-1)\n",
    "                spl.pop(rand)\n",
    "            aux = ' '.join(spl)\n",
    "            new.append(aux)\n",
    "    else:\n",
    "        new.append(var)"
   ]
  },
  {
   "cell_type": "code",
   "execution_count": null,
   "metadata": {},
   "outputs": [],
   "source": []
  },
  {
   "cell_type": "code",
   "execution_count": null,
   "metadata": {},
   "outputs": [],
   "source": [
    "# Algoritmo back-translation\n",
    "\n",
    "translator = Translator()\n",
    "\n",
    "new = []\n",
    "\n",
    "for i in range(0,232): # Percorre o conjunto de dados\n",
    "    var = df[df.index == i]\n",
    "    var = var['Titulo'].to_string() # Mudar atributo de acordo com o conjunto\n",
    "    var = re.sub(\"^\\d+\\s\", \"\",var).strip()\n",
    "    trans1 = translator.translate(var, dest='pt', src='en').text\n",
    "    trans2 = translator.translate(trans1, dest='en', src='pt').text\n",
    "    new.append(trans2)"
   ]
  },
  {
   "cell_type": "code",
   "execution_count": null,
   "metadata": {},
   "outputs": [],
   "source": []
  },
  {
   "cell_type": "code",
   "execution_count": null,
   "metadata": {},
   "outputs": [],
   "source": [
    "# Algoritmo Random Swap\n",
    "\n",
    "new = []\n",
    "\n",
    "for i in range(0,1163): # tamanho do conjunto\n",
    "    var = df[df.index == i]\n",
    "    var = var['Titulo'].to_string() # Mudar atributo de acordo com o conjunto\n",
    "    var = re.sub(\"^\\d+\\s\", \"\",var).strip()\n",
    "    spl = var.split()\n",
    "    if len(spl) > 1:\n",
    "        for n in range(0,2):\n",
    "            rand1 = randint(0,len(spl)-1)\n",
    "            rand2 = randint(0,len(spl)-1)\n",
    "            aux1 = spl.pop(rand1)\n",
    "            spl.insert(rand2, aux1)\n",
    "        aux2 = ' '.join(spl)\n",
    "        new.append(aux2)\n",
    "    else:\n",
    "        new.append(var)"
   ]
  },
  {
   "cell_type": "code",
   "execution_count": null,
   "metadata": {},
   "outputs": [],
   "source": []
  },
  {
   "cell_type": "code",
   "execution_count": null,
   "metadata": {},
   "outputs": [],
   "source": [
    "# Depois de aplicado os algoritmos de data augmentation o mesmo é transformado em um novo dataframe\n",
    "\n",
    "novo = pd.DataFrame(new)\n",
    "novo['Genero'] = df['Genero'] # Substituir atributo de acordo com dataset\n",
    "novo.rename(columns={0: 'Titulo'}, inplace = True) \n",
    "\n",
    "fim = df.append(novo, ignore_index=True)\n",
    "\n",
    "# embaralhar as novas amostras\n",
    "fim = fim.sample(frac = 1)\n",
    "\n",
    "fim = fim.reset_index(drop=True)\n",
    "\n",
    "# Salvar o conjunto com as novas amostras\n",
    "fim.to_csv('Caminho', index=None)"
   ]
  }
 ],
 "metadata": {
  "kernelspec": {
   "display_name": "Python 3",
   "language": "python",
   "name": "python3"
  },
  "language_info": {
   "codemirror_mode": {
    "name": "ipython",
    "version": 3
   },
   "file_extension": ".py",
   "mimetype": "text/x-python",
   "name": "python",
   "nbconvert_exporter": "python",
   "pygments_lexer": "ipython3",
   "version": "3.8.5"
  }
 },
 "nbformat": 4,
 "nbformat_minor": 4
}
