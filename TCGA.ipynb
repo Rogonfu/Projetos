{
 "cells": [
  {
   "cell_type": "code",
   "execution_count": null,
   "metadata": {},
   "outputs": [],
   "source": []
  },
  {
   "cell_type": "code",
   "execution_count": 1,
   "metadata": {},
   "outputs": [],
   "source": [
    "import pandas as pd\n",
    "import numpy as np\n",
    "from sklearn import metrics\n",
    "from sklearn.model_selection import train_test_split\n",
    "from sklearn.neighbors import KNeighborsClassifier\n",
    "from umap import UMAP\n",
    "from sklearn.manifold import TSNE\n",
    "import plotly.express as px\n",
    "import seaborn as sb"
   ]
  },
  {
   "cell_type": "code",
   "execution_count": 2,
   "metadata": {
    "scrolled": true
   },
   "outputs": [
    {
     "name": "stderr",
     "output_type": "stream",
     "text": [
      "C:\\Users\\Rogonfu\\anaconda3\\lib\\site-packages\\IPython\\core\\interactiveshell.py:3146: DtypeWarning: Columns (1,2,3,4,5,6,7,8,9,10,11,12,13,14,15,16,17,18,19,20,21,22,23,24,25,26,27,28,29,30,31,32,33,34,35,36,37,38,39,40,41,42,43,44,45,46,47,48,49,50,51,52,53,54,55,56,57,58,59,60,61,62,63,64,65,66,67,68,69,70,71,72,73,74,75,76,77,78,79,80,81,82,83,84,85,86,87,88,89,90,91,92,93,94,95,96,97,98,99,100,101,102,103,104,105,106,107,108,109,110,111,112,113,114,115,116,117,118,119,120,121,122,123,124,125,126,127,128,129,130,131,132,133,134,135,136,137,138,139,140,141,142,143,144,145,146,147,148,149,150,151,152,153,154,155,156,157,158,159,160,161,162,163,164,165,166,167,168,169,170,171,172,173,174,175,176,177,178,179,180,181,182,183,184,185,186,187,188,189,190,191,192,193,194,195,196,197,198,199,200,201,202,203,204,205,206,207,208,209,210,211,212,213,214,215,216,217,218,219,220,221,222,223,224,225,226,227,228,229,230,231,232,233,234,235,236,237,238,239,240,241,242,243,244,245,246,247,248,249,250,251,252,253,254,255,256,257,258,259,260,261,262,263,264,265,266,267,268,269,270,271,272,273,274,275,276,277,278,279,280,281,282,283,284,285,286,287,288,289,290,291,292,293,294,295,296,297,298,299,300,301,302,303,304,305,306,307,308,309,310,311,312,313,314,315,316,317,318,319,320,321,322,323,324,325,326,327,328,329,330,331,332,333,334,335,336,337,338,339,340,341,342,343,344,345,346,347,348,349,350,351,352,353,354,355,356,357,358,359,360,361,362,363,364,365,366,367,368,369,370,371,372,373,374,375,376,377,378,379,380,381,382,383,384,385,386,387,388,389,390,391,392,393,394,395,396,397,398,399,400,401,402,403,404,405,406,407,408,409,410,411,412,413,414,415,416,417,418,419,420,421,422,423,424,425,426,427,428,429,430,431,432,433,434,435,436,437,438,439,440,441,442,443,444,445,446,447,448,449,450,451,452,453,454,455,456,457,458,459,460,461,462,463,464,465,466,467,468,469,470,471,472,473,474,475,476,477,478,479,480,481,482,483,484,485,486,487,488,489,490,491,492,493,494,495,496,497,498,499,500,501,502,503,504,505,506,507,508,509,510,511,512,513,514,515,516,517,518,519,520,521,522,523,524,525,526,527,528,529,530,531,532,533,534,535,536,537,538,539,540,541,542,543,544,545,546,547,548,549,550,551,552,553,554,555,556,557,558,559,560,561,562,563,564,565,566,567,568,569,570,571,572,573,574,575,576,577,578,579,580,581,582,583,584,585,586,587,588,589,590,591,592,593,594,595,596,597,598,599,600,601,602,603,604,605,606,607,608,609,610,611,612,613,614,615,616,617,618,619,620,621,622,623,624,625,626,627,628,629,630,631,632,633,634,635,636,637,638,639,640,641,642,643,644,645,646,647,648,649,650,651,652,653,654,655,656,657,658,659,660,661,662,663,664,665,666,667,668,669,670,671,672,673,674,675,676,677,678,679,680,681,682,683,684,685,686,687,688,689,690,691,692,693,694,695,696,697,698,699,700,701,702,703,704,705,706,707,708,709,710,711,712,713,714,715,716,717,718,719,720,721,722,723,724,725,726,727,728,729,730,731,732,733,734,735,736,737,738,739,740,741,742,743,744,745,746,747,748,749,750,751,752,753,754,755,756,757,758,759,760,761,762,763,764,765,766,767,768,769,770,771,772,773,774,775,776,777,778,779,780,781,782,783,784,785,786,787,788,789,790,791,792,793,794,795,796,797,798,799,800,801,802,803,804,805,806,807,808,809,810,811,812,813,814,815,816,817,818,819,820,821,822,823,824,825,826,827,828,829,830,831,832,833,834,835,836,837,838,839,840,841,842,843,844,845,846,847,848,849,850,851,852,853,854,855,856,857,858,859,860,861,862,863,864,865,866,867,868,869,870,871,872,873,874,875,876,877,878,879,880,881,882,883,884,885,886,887,888,889,890,891,892,893,894,895,896,897,898,899,900,901,902,903,904,905,906,907,908,909,910,911,912,913,914,915,916,917,918,919,920,921,922,923,924,925,926,927,928,929,930,931,932,933,934,935,936,937,938,939,940,941,942,943,944,945,946,947,948,949,950,951,952,953,954,955,956,957,958,959,960,961,962,963,964,965,966,967,968,969,970,971,972,973,974,975,976,977,978,979,980,981,982,983,984,985,986,987,988,989,990,991,992,993,994,995,996,997,998,999,1000,1001,1002,1003,1004,1005,1006,1007,1008,1009,1010,1011,1012,1013,1014,1015,1016,1017,1018,1019,1020,1021,1022,1023,1024,1025,1026,1027,1028,1029,1030,1031,1032,1033,1034,1035,1036,1037,1038,1039,1040,1041,1042,1043,1044,1045,1046,1047,1048,1049,1050,1051,1052,1053,1054,1055,1056,1057,1058,1059,1060,1061,1062,1063,1064,1065,1066,1067,1068,1069,1070,1071,1072,1073,1074,1075,1076,1077,1078,1079,1080,1081,1082,1083) have mixed types.Specify dtype option on import or set low_memory=False.\n",
      "  has_raised = await self.run_ast_nodes(code_ast.body, cell_name,\n"
     ]
    }
   ],
   "source": [
    "df = pd.read_csv(\"C:\\\\Users\\\\Rogonfu\\\\Downloads\\\\brca_tcga_pan_can_atlas_2018\\\\brca_tcga_pan_can_atlas_2018\\\\data_mrna_seq_v2_rsem.txt\", sep=\"\\t\", header=None)"
   ]
  },
  {
   "cell_type": "code",
   "execution_count": 3,
   "metadata": {},
   "outputs": [],
   "source": [
    "df = df.T"
   ]
  },
  {
   "cell_type": "code",
   "execution_count": null,
   "metadata": {},
   "outputs": [],
   "source": [
    "df"
   ]
  },
  {
   "cell_type": "code",
   "execution_count": null,
   "metadata": {},
   "outputs": [],
   "source": []
  },
  {
   "cell_type": "code",
   "execution_count": null,
   "metadata": {},
   "outputs": [],
   "source": [
    "new_header = df.iloc[0] #grab the first row for the header\n",
    "df = df[1:] #take the data less the header row\n",
    "df.columns = new_header #set the header row as the df header"
   ]
  },
  {
   "cell_type": "code",
   "execution_count": null,
   "metadata": {},
   "outputs": [],
   "source": [
    "df"
   ]
  },
  {
   "cell_type": "code",
   "execution_count": null,
   "metadata": {},
   "outputs": [],
   "source": [
    "tes = df[df[0] == \"TCGA-BH-A0B5-11\"]"
   ]
  },
  {
   "cell_type": "code",
   "execution_count": null,
   "metadata": {},
   "outputs": [],
   "source": [
    "tes"
   ]
  },
  {
   "cell_type": "code",
   "execution_count": null,
   "metadata": {},
   "outputs": [],
   "source": []
  },
  {
   "cell_type": "code",
   "execution_count": 4,
   "metadata": {},
   "outputs": [
    {
     "name": "stderr",
     "output_type": "stream",
     "text": [
      "C:\\Users\\Rogonfu\\anaconda3\\lib\\site-packages\\IPython\\core\\interactiveshell.py:3146: DtypeWarning: Columns (1,2,3,4,5,6,7,8,9,10,11,12,13,14,15,16,17,18,19,20,21,22,23,24,25,26,27,28,29,30,31,32,33,34,35,36,37,38,39,40,41,42,43,44,45,46,47,48,49,50,51,52,53,54,55,56,57,58,59,60,61,62,63,64,65,66,67,68,69,70,71,72,73,74,75,76,77,78,79,80,81,82,83,84,85,86,87,88,89,90,91,92,93,94,95,96,97,98,99,100,101,102,103,104,105,106,107,108,109,110,111,112,113,114,115) have mixed types.Specify dtype option on import or set low_memory=False.\n",
      "  has_raised = await self.run_ast_nodes(code_ast.body, cell_name,\n"
     ]
    }
   ],
   "source": [
    "clas = pd.read_csv(\"C:\\\\Users\\\\Rogonfu\\\\Downloads\\\\brca_tcga_pan_can_atlas_2018\\\\brca_tcga_pan_can_atlas_2018\\\\normals\\\\data_mrna_seq_v2_rsem_normal_samples.txt\", sep=\"\\t\", header=None)"
   ]
  },
  {
   "cell_type": "code",
   "execution_count": null,
   "metadata": {},
   "outputs": [],
   "source": [
    "clas"
   ]
  },
  {
   "cell_type": "code",
   "execution_count": null,
   "metadata": {},
   "outputs": [],
   "source": [
    "samp = pd.read_csv(\"C:\\\\Users\\\\Rogonfu\\\\Downloads\\\\brca_tcga_pan_can_atlas_2018\\\\brca_tcga_pan_can_atlas_2018\\\\data_clinical_sample.txt\", sep=\"\\t\", header=None)"
   ]
  },
  {
   "cell_type": "code",
   "execution_count": null,
   "metadata": {},
   "outputs": [],
   "source": [
    "samp"
   ]
  },
  {
   "cell_type": "code",
   "execution_count": null,
   "metadata": {},
   "outputs": [],
   "source": [
    "pati = pd.read_csv(\"C:\\\\Users\\\\Rogonfu\\\\Downloads\\\\brca_tcga_pan_can_atlas_2018\\\\brca_tcga_pan_can_atlas_2018\\\\data_clinical_patient.txt\", sep=\"\\t\", header=None)"
   ]
  },
  {
   "cell_type": "code",
   "execution_count": null,
   "metadata": {},
   "outputs": [],
   "source": [
    "pati"
   ]
  },
  {
   "cell_type": "code",
   "execution_count": null,
   "metadata": {},
   "outputs": [],
   "source": [
    "coad = pd.read_csv(\"C:\\\\Users\\\\Rogonfu\\\\Downloads\\\\blca_tcga_pan_can_atlas_2018\\\\data_mrna_seq_v2_rsem.txt\", sep=\"\\t\", header=None)"
   ]
  },
  {
   "cell_type": "code",
   "execution_count": null,
   "metadata": {},
   "outputs": [],
   "source": [
    "coad"
   ]
  },
  {
   "cell_type": "code",
   "execution_count": null,
   "metadata": {},
   "outputs": [],
   "source": [
    "clas2 = pd.read_csv(\"C:\\\\Users\\\\Rogonfu\\\\Downloads\\\\blca_tcga_pan_can_atlas_2018\\\\normals\\\\data_mrna_seq_v2_rsem_normal_samples.txt\", sep=\"\\t\", header=None)"
   ]
  },
  {
   "cell_type": "code",
   "execution_count": null,
   "metadata": {},
   "outputs": [],
   "source": [
    "clas2"
   ]
  },
  {
   "cell_type": "code",
   "execution_count": null,
   "metadata": {},
   "outputs": [],
   "source": []
  },
  {
   "cell_type": "code",
   "execution_count": null,
   "metadata": {},
   "outputs": [],
   "source": []
  },
  {
   "cell_type": "code",
   "execution_count": null,
   "metadata": {},
   "outputs": [],
   "source": [
    "sample = samp.drop(0)"
   ]
  },
  {
   "cell_type": "code",
   "execution_count": null,
   "metadata": {},
   "outputs": [],
   "source": [
    "sample = sample.drop(1)"
   ]
  },
  {
   "cell_type": "code",
   "execution_count": null,
   "metadata": {},
   "outputs": [],
   "source": [
    "sample = sample.drop(2)"
   ]
  },
  {
   "cell_type": "code",
   "execution_count": null,
   "metadata": {},
   "outputs": [],
   "source": [
    "sample = sample.drop(3)"
   ]
  },
  {
   "cell_type": "code",
   "execution_count": null,
   "metadata": {},
   "outputs": [],
   "source": [
    "sample = sample.drop(0, axis=1)"
   ]
  },
  {
   "cell_type": "code",
   "execution_count": null,
   "metadata": {},
   "outputs": [],
   "source": [
    "sample"
   ]
  },
  {
   "cell_type": "code",
   "execution_count": null,
   "metadata": {},
   "outputs": [],
   "source": [
    "novo = pd.DataFrame(sample[sample.columns[0]])\n",
    "novo"
   ]
  },
  {
   "cell_type": "code",
   "execution_count": null,
   "metadata": {},
   "outputs": [],
   "source": [
    "novo['Classe'] = sample[sample.columns[3]]\n",
    "novo"
   ]
  },
  {
   "cell_type": "code",
   "execution_count": null,
   "metadata": {},
   "outputs": [],
   "source": [
    "novo = novo.drop(4)\n",
    "novo"
   ]
  },
  {
   "cell_type": "code",
   "execution_count": null,
   "metadata": {},
   "outputs": [],
   "source": [
    "novo = novo.rename(columns={1:0})\n",
    "novo"
   ]
  },
  {
   "cell_type": "code",
   "execution_count": null,
   "metadata": {},
   "outputs": [],
   "source": []
  },
  {
   "cell_type": "code",
   "execution_count": null,
   "metadata": {},
   "outputs": [],
   "source": []
  },
  {
   "cell_type": "code",
   "execution_count": 5,
   "metadata": {},
   "outputs": [],
   "source": [
    "new = df.drop(0)"
   ]
  },
  {
   "cell_type": "code",
   "execution_count": 6,
   "metadata": {},
   "outputs": [],
   "source": [
    "new = new.drop(1)"
   ]
  },
  {
   "cell_type": "code",
   "execution_count": 7,
   "metadata": {},
   "outputs": [],
   "source": [
    "new = new.drop(0, axis=1)\n"
   ]
  },
  {
   "cell_type": "code",
   "execution_count": 8,
   "metadata": {},
   "outputs": [
    {
     "data": {
      "text/html": [
       "<div>\n",
       "<style scoped>\n",
       "    .dataframe tbody tr th:only-of-type {\n",
       "        vertical-align: middle;\n",
       "    }\n",
       "\n",
       "    .dataframe tbody tr th {\n",
       "        vertical-align: top;\n",
       "    }\n",
       "\n",
       "    .dataframe thead th {\n",
       "        text-align: right;\n",
       "    }\n",
       "</style>\n",
       "<table border=\"1\" class=\"dataframe\">\n",
       "  <thead>\n",
       "    <tr style=\"text-align: right;\">\n",
       "      <th></th>\n",
       "      <th>1</th>\n",
       "      <th>2</th>\n",
       "      <th>3</th>\n",
       "      <th>4</th>\n",
       "      <th>5</th>\n",
       "      <th>6</th>\n",
       "      <th>7</th>\n",
       "      <th>8</th>\n",
       "      <th>9</th>\n",
       "      <th>10</th>\n",
       "      <th>...</th>\n",
       "      <th>20522</th>\n",
       "      <th>20523</th>\n",
       "      <th>20524</th>\n",
       "      <th>20525</th>\n",
       "      <th>20526</th>\n",
       "      <th>20527</th>\n",
       "      <th>20528</th>\n",
       "      <th>20529</th>\n",
       "      <th>20530</th>\n",
       "      <th>20531</th>\n",
       "    </tr>\n",
       "  </thead>\n",
       "  <tbody>\n",
       "    <tr>\n",
       "      <th>2</th>\n",
       "      <td>0</td>\n",
       "      <td>16.3644</td>\n",
       "      <td>12.9316</td>\n",
       "      <td>52.1503</td>\n",
       "      <td>408.076</td>\n",
       "      <td>0</td>\n",
       "      <td>1187.01</td>\n",
       "      <td>0</td>\n",
       "      <td>0</td>\n",
       "      <td>0</td>\n",
       "      <td>...</td>\n",
       "      <td>415.824</td>\n",
       "      <td>931.957</td>\n",
       "      <td>129.592</td>\n",
       "      <td>1007.78</td>\n",
       "      <td>1658.5</td>\n",
       "      <td>258.494</td>\n",
       "      <td>1208.37</td>\n",
       "      <td>3507.25</td>\n",
       "      <td>1894.93</td>\n",
       "      <td>1180.46</td>\n",
       "    </tr>\n",
       "    <tr>\n",
       "      <th>3</th>\n",
       "      <td>0</td>\n",
       "      <td>9.2659</td>\n",
       "      <td>17.379</td>\n",
       "      <td>69.7553</td>\n",
       "      <td>563.893</td>\n",
       "      <td>0</td>\n",
       "      <td>516.041</td>\n",
       "      <td>1.0875</td>\n",
       "      <td>0.5438</td>\n",
       "      <td>0</td>\n",
       "      <td>...</td>\n",
       "      <td>1161.33</td>\n",
       "      <td>965.198</td>\n",
       "      <td>59.8151</td>\n",
       "      <td>448.613</td>\n",
       "      <td>1343.12</td>\n",
       "      <td>198.477</td>\n",
       "      <td>603.589</td>\n",
       "      <td>5504.62</td>\n",
       "      <td>1318.65</td>\n",
       "      <td>406.743</td>\n",
       "    </tr>\n",
       "    <tr>\n",
       "      <th>4</th>\n",
       "      <td>0.9066</td>\n",
       "      <td>11.6228</td>\n",
       "      <td>9.2294</td>\n",
       "      <td>154.297</td>\n",
       "      <td>1360.83</td>\n",
       "      <td>0</td>\n",
       "      <td>592.022</td>\n",
       "      <td>0</td>\n",
       "      <td>0</td>\n",
       "      <td>0</td>\n",
       "      <td>...</td>\n",
       "      <td>305.422</td>\n",
       "      <td>2531.28</td>\n",
       "      <td>35.3581</td>\n",
       "      <td>533.998</td>\n",
       "      <td>768.812</td>\n",
       "      <td>331.822</td>\n",
       "      <td>532.185</td>\n",
       "      <td>5458.75</td>\n",
       "      <td>942.883</td>\n",
       "      <td>509.519</td>\n",
       "    </tr>\n",
       "    <tr>\n",
       "      <th>5</th>\n",
       "      <td>0</td>\n",
       "      <td>12.0894</td>\n",
       "      <td>11.0799</td>\n",
       "      <td>143.864</td>\n",
       "      <td>865.536</td>\n",
       "      <td>0</td>\n",
       "      <td>552.751</td>\n",
       "      <td>0.4137</td>\n",
       "      <td>0</td>\n",
       "      <td>0</td>\n",
       "      <td>...</td>\n",
       "      <td>394.506</td>\n",
       "      <td>668.597</td>\n",
       "      <td>55.0269</td>\n",
       "      <td>437.733</td>\n",
       "      <td>863.881</td>\n",
       "      <td>175.424</td>\n",
       "      <td>607.365</td>\n",
       "      <td>5691.35</td>\n",
       "      <td>781.134</td>\n",
       "      <td>700.869</td>\n",
       "    </tr>\n",
       "    <tr>\n",
       "      <th>6</th>\n",
       "      <td>0</td>\n",
       "      <td>6.8468</td>\n",
       "      <td>14.4298</td>\n",
       "      <td>84.2128</td>\n",
       "      <td>766.383</td>\n",
       "      <td>0</td>\n",
       "      <td>260.851</td>\n",
       "      <td>0.4255</td>\n",
       "      <td>0</td>\n",
       "      <td>0</td>\n",
       "      <td>...</td>\n",
       "      <td>405.711</td>\n",
       "      <td>674.468</td>\n",
       "      <td>48.9362</td>\n",
       "      <td>424.255</td>\n",
       "      <td>1049.79</td>\n",
       "      <td>14.0426</td>\n",
       "      <td>775.745</td>\n",
       "      <td>4041.7</td>\n",
       "      <td>831.915</td>\n",
       "      <td>881.702</td>\n",
       "    </tr>\n",
       "    <tr>\n",
       "      <th>...</th>\n",
       "      <td>...</td>\n",
       "      <td>...</td>\n",
       "      <td>...</td>\n",
       "      <td>...</td>\n",
       "      <td>...</td>\n",
       "      <td>...</td>\n",
       "      <td>...</td>\n",
       "      <td>...</td>\n",
       "      <td>...</td>\n",
       "      <td>...</td>\n",
       "      <td>...</td>\n",
       "      <td>...</td>\n",
       "      <td>...</td>\n",
       "      <td>...</td>\n",
       "      <td>...</td>\n",
       "      <td>...</td>\n",
       "      <td>...</td>\n",
       "      <td>...</td>\n",
       "      <td>...</td>\n",
       "      <td>...</td>\n",
       "      <td>...</td>\n",
       "    </tr>\n",
       "    <tr>\n",
       "      <th>1079</th>\n",
       "      <td>0</td>\n",
       "      <td>0</td>\n",
       "      <td>3.258</td>\n",
       "      <td>42.2643</td>\n",
       "      <td>1877.42</td>\n",
       "      <td>0</td>\n",
       "      <td>704.541</td>\n",
       "      <td>4.0725</td>\n",
       "      <td>0</td>\n",
       "      <td>0</td>\n",
       "      <td>...</td>\n",
       "      <td>150.014</td>\n",
       "      <td>180.819</td>\n",
       "      <td>24.4349</td>\n",
       "      <td>243.535</td>\n",
       "      <td>772.959</td>\n",
       "      <td>98.5543</td>\n",
       "      <td>315.211</td>\n",
       "      <td>10937.1</td>\n",
       "      <td>800.652</td>\n",
       "      <td>443.087</td>\n",
       "    </tr>\n",
       "    <tr>\n",
       "      <th>1080</th>\n",
       "      <td>0</td>\n",
       "      <td>14.3858</td>\n",
       "      <td>21.4409</td>\n",
       "      <td>137.776</td>\n",
       "      <td>652.756</td>\n",
       "      <td>0</td>\n",
       "      <td>427.165</td>\n",
       "      <td>2.7559</td>\n",
       "      <td>0</td>\n",
       "      <td>0</td>\n",
       "      <td>...</td>\n",
       "      <td>456.047</td>\n",
       "      <td>457.087</td>\n",
       "      <td>70.8661</td>\n",
       "      <td>643.701</td>\n",
       "      <td>1266.54</td>\n",
       "      <td>21.2598</td>\n",
       "      <td>688.189</td>\n",
       "      <td>5118.11</td>\n",
       "      <td>1933.86</td>\n",
       "      <td>670.079</td>\n",
       "    </tr>\n",
       "    <tr>\n",
       "      <th>1081</th>\n",
       "      <td>0</td>\n",
       "      <td>22.324</td>\n",
       "      <td>27.2744</td>\n",
       "      <td>64.1427</td>\n",
       "      <td>722.721</td>\n",
       "      <td>0</td>\n",
       "      <td>376.476</td>\n",
       "      <td>0.4724</td>\n",
       "      <td>0</td>\n",
       "      <td>0</td>\n",
       "      <td>...</td>\n",
       "      <td>530.198</td>\n",
       "      <td>694.379</td>\n",
       "      <td>48.6538</td>\n",
       "      <td>341.521</td>\n",
       "      <td>1375.53</td>\n",
       "      <td>164.384</td>\n",
       "      <td>746.812</td>\n",
       "      <td>5477.56</td>\n",
       "      <td>1437.41</td>\n",
       "      <td>953.708</td>\n",
       "    </tr>\n",
       "    <tr>\n",
       "      <th>1082</th>\n",
       "      <td>0</td>\n",
       "      <td>2.2638</td>\n",
       "      <td>7.2933</td>\n",
       "      <td>85.0461</td>\n",
       "      <td>1140.28</td>\n",
       "      <td>0</td>\n",
       "      <td>252.068</td>\n",
       "      <td>0.5973</td>\n",
       "      <td>0</td>\n",
       "      <td>0</td>\n",
       "      <td>...</td>\n",
       "      <td>173.109</td>\n",
       "      <td>258.639</td>\n",
       "      <td>32.2552</td>\n",
       "      <td>248.484</td>\n",
       "      <td>796.225</td>\n",
       "      <td>51.9667</td>\n",
       "      <td>505.928</td>\n",
       "      <td>6675.63</td>\n",
       "      <td>754.413</td>\n",
       "      <td>750.829</td>\n",
       "    </tr>\n",
       "    <tr>\n",
       "      <th>1083</th>\n",
       "      <td>0</td>\n",
       "      <td>6.8865</td>\n",
       "      <td>24.7795</td>\n",
       "      <td>167.551</td>\n",
       "      <td>1003.57</td>\n",
       "      <td>0</td>\n",
       "      <td>238.017</td>\n",
       "      <td>0.348</td>\n",
       "      <td>0</td>\n",
       "      <td>0</td>\n",
       "      <td>...</td>\n",
       "      <td>521.169</td>\n",
       "      <td>2435.84</td>\n",
       "      <td>34.4498</td>\n",
       "      <td>389.735</td>\n",
       "      <td>947.89</td>\n",
       "      <td>139.539</td>\n",
       "      <td>573.467</td>\n",
       "      <td>3402.52</td>\n",
       "      <td>564.419</td>\n",
       "      <td>462.114</td>\n",
       "    </tr>\n",
       "  </tbody>\n",
       "</table>\n",
       "<p>1082 rows × 20531 columns</p>\n",
       "</div>"
      ],
      "text/plain": [
       "       1        2        3        4        5     6        7       8      \\\n",
       "2          0  16.3644  12.9316  52.1503  408.076     0  1187.01       0   \n",
       "3          0   9.2659   17.379  69.7553  563.893     0  516.041  1.0875   \n",
       "4     0.9066  11.6228   9.2294  154.297  1360.83     0  592.022       0   \n",
       "5          0  12.0894  11.0799  143.864  865.536     0  552.751  0.4137   \n",
       "6          0   6.8468  14.4298  84.2128  766.383     0  260.851  0.4255   \n",
       "...      ...      ...      ...      ...      ...   ...      ...     ...   \n",
       "1079       0        0    3.258  42.2643  1877.42     0  704.541  4.0725   \n",
       "1080       0  14.3858  21.4409  137.776  652.756     0  427.165  2.7559   \n",
       "1081       0   22.324  27.2744  64.1427  722.721     0  376.476  0.4724   \n",
       "1082       0   2.2638   7.2933  85.0461  1140.28     0  252.068  0.5973   \n",
       "1083       0   6.8865  24.7795  167.551  1003.57     0  238.017   0.348   \n",
       "\n",
       "       9     10     ...    20522    20523    20524    20525    20526    20527  \\\n",
       "2          0     0  ...  415.824  931.957  129.592  1007.78   1658.5  258.494   \n",
       "3     0.5438     0  ...  1161.33  965.198  59.8151  448.613  1343.12  198.477   \n",
       "4          0     0  ...  305.422  2531.28  35.3581  533.998  768.812  331.822   \n",
       "5          0     0  ...  394.506  668.597  55.0269  437.733  863.881  175.424   \n",
       "6          0     0  ...  405.711  674.468  48.9362  424.255  1049.79  14.0426   \n",
       "...      ...   ...  ...      ...      ...      ...      ...      ...      ...   \n",
       "1079       0     0  ...  150.014  180.819  24.4349  243.535  772.959  98.5543   \n",
       "1080       0     0  ...  456.047  457.087  70.8661  643.701  1266.54  21.2598   \n",
       "1081       0     0  ...  530.198  694.379  48.6538  341.521  1375.53  164.384   \n",
       "1082       0     0  ...  173.109  258.639  32.2552  248.484  796.225  51.9667   \n",
       "1083       0     0  ...  521.169  2435.84  34.4498  389.735   947.89  139.539   \n",
       "\n",
       "        20528    20529    20530    20531  \n",
       "2     1208.37  3507.25  1894.93  1180.46  \n",
       "3     603.589  5504.62  1318.65  406.743  \n",
       "4     532.185  5458.75  942.883  509.519  \n",
       "5     607.365  5691.35  781.134  700.869  \n",
       "6     775.745   4041.7  831.915  881.702  \n",
       "...       ...      ...      ...      ...  \n",
       "1079  315.211  10937.1  800.652  443.087  \n",
       "1080  688.189  5118.11  1933.86  670.079  \n",
       "1081  746.812  5477.56  1437.41  953.708  \n",
       "1082  505.928  6675.63  754.413  750.829  \n",
       "1083  573.467  3402.52  564.419  462.114  \n",
       "\n",
       "[1082 rows x 20531 columns]"
      ]
     },
     "execution_count": 8,
     "metadata": {},
     "output_type": "execute_result"
    }
   ],
   "source": [
    "new"
   ]
  },
  {
   "cell_type": "code",
   "execution_count": null,
   "metadata": {},
   "outputs": [],
   "source": []
  },
  {
   "cell_type": "code",
   "execution_count": null,
   "metadata": {},
   "outputs": [],
   "source": [
    "result = pd.merge(new, novo, on=[0], how=\"inner\")"
   ]
  },
  {
   "cell_type": "code",
   "execution_count": null,
   "metadata": {},
   "outputs": [],
   "source": [
    "result"
   ]
  },
  {
   "cell_type": "code",
   "execution_count": null,
   "metadata": {},
   "outputs": [],
   "source": []
  },
  {
   "cell_type": "code",
   "execution_count": null,
   "metadata": {},
   "outputs": [],
   "source": [
    "test1 = result.loc[result.Classe == \"Breast Invasive Ductal Carcinoma\"]\n",
    "test1"
   ]
  },
  {
   "cell_type": "code",
   "execution_count": null,
   "metadata": {},
   "outputs": [],
   "source": [
    "test2 = result.loc[result.Classe == \"Breast Invasive Lobular Carcinoma\"]\n",
    "test2"
   ]
  },
  {
   "cell_type": "code",
   "execution_count": null,
   "metadata": {},
   "outputs": [],
   "source": [
    "final = test1.append(test2, ignore_index=True)\n",
    "final"
   ]
  },
  {
   "cell_type": "code",
   "execution_count": null,
   "metadata": {},
   "outputs": [],
   "source": []
  },
  {
   "cell_type": "code",
   "execution_count": null,
   "metadata": {},
   "outputs": [],
   "source": [
    "from sklearn.feature_selection import SelectKBest\n",
    "from sklearn.feature_selection import f_classif\n"
   ]
  },
  {
   "cell_type": "code",
   "execution_count": null,
   "metadata": {},
   "outputs": [],
   "source": []
  },
  {
   "cell_type": "code",
   "execution_count": 9,
   "metadata": {},
   "outputs": [],
   "source": [
    "clas = clas.T\n",
    "\n",
    "clas = clas.drop(0)\n",
    "\n",
    "clas = clas.drop(1)\n",
    "\n",
    "clas = clas.drop(0, axis=1)"
   ]
  },
  {
   "cell_type": "code",
   "execution_count": 10,
   "metadata": {},
   "outputs": [
    {
     "data": {
      "text/html": [
       "<div>\n",
       "<style scoped>\n",
       "    .dataframe tbody tr th:only-of-type {\n",
       "        vertical-align: middle;\n",
       "    }\n",
       "\n",
       "    .dataframe tbody tr th {\n",
       "        vertical-align: top;\n",
       "    }\n",
       "\n",
       "    .dataframe thead th {\n",
       "        text-align: right;\n",
       "    }\n",
       "</style>\n",
       "<table border=\"1\" class=\"dataframe\">\n",
       "  <thead>\n",
       "    <tr style=\"text-align: right;\">\n",
       "      <th></th>\n",
       "      <th>1</th>\n",
       "      <th>2</th>\n",
       "      <th>3</th>\n",
       "      <th>4</th>\n",
       "      <th>5</th>\n",
       "      <th>6</th>\n",
       "      <th>7</th>\n",
       "      <th>8</th>\n",
       "      <th>9</th>\n",
       "      <th>10</th>\n",
       "      <th>...</th>\n",
       "      <th>20522</th>\n",
       "      <th>20523</th>\n",
       "      <th>20524</th>\n",
       "      <th>20525</th>\n",
       "      <th>20526</th>\n",
       "      <th>20527</th>\n",
       "      <th>20528</th>\n",
       "      <th>20529</th>\n",
       "      <th>20530</th>\n",
       "      <th>20531</th>\n",
       "    </tr>\n",
       "  </thead>\n",
       "  <tbody>\n",
       "    <tr>\n",
       "      <th>2</th>\n",
       "      <td>0</td>\n",
       "      <td>4.3333</td>\n",
       "      <td>3.9206</td>\n",
       "      <td>78.9238</td>\n",
       "      <td>978.413</td>\n",
       "      <td>0</td>\n",
       "      <td>219.048</td>\n",
       "      <td>0.9524</td>\n",
       "      <td>0</td>\n",
       "      <td>0</td>\n",
       "      <td>...</td>\n",
       "      <td>247.819</td>\n",
       "      <td>213.333</td>\n",
       "      <td>41.2698</td>\n",
       "      <td>433.333</td>\n",
       "      <td>1034.29</td>\n",
       "      <td>60.3175</td>\n",
       "      <td>745.079</td>\n",
       "      <td>6455.87</td>\n",
       "      <td>1314.29</td>\n",
       "      <td>968.254</td>\n",
       "    </tr>\n",
       "    <tr>\n",
       "      <th>3</th>\n",
       "      <td>0</td>\n",
       "      <td>4.2087</td>\n",
       "      <td>2.1852</td>\n",
       "      <td>53.638</td>\n",
       "      <td>970.757</td>\n",
       "      <td>0</td>\n",
       "      <td>136.154</td>\n",
       "      <td>0</td>\n",
       "      <td>0</td>\n",
       "      <td>0</td>\n",
       "      <td>...</td>\n",
       "      <td>161.155</td>\n",
       "      <td>144.053</td>\n",
       "      <td>45.5101</td>\n",
       "      <td>374.612</td>\n",
       "      <td>936.906</td>\n",
       "      <td>34.6027</td>\n",
       "      <td>815.045</td>\n",
       "      <td>6038.93</td>\n",
       "      <td>1477.39</td>\n",
       "      <td>620.968</td>\n",
       "    </tr>\n",
       "    <tr>\n",
       "      <th>4</th>\n",
       "      <td>0</td>\n",
       "      <td>3.055</td>\n",
       "      <td>0</td>\n",
       "      <td>87.5764</td>\n",
       "      <td>770.367</td>\n",
       "      <td>0</td>\n",
       "      <td>109.98</td>\n",
       "      <td>0</td>\n",
       "      <td>0</td>\n",
       "      <td>0</td>\n",
       "      <td>...</td>\n",
       "      <td>98.2688</td>\n",
       "      <td>58.554</td>\n",
       "      <td>94.1955</td>\n",
       "      <td>374.236</td>\n",
       "      <td>1077.39</td>\n",
       "      <td>1.5275</td>\n",
       "      <td>1545.32</td>\n",
       "      <td>2344.7</td>\n",
       "      <td>1997.96</td>\n",
       "      <td>730.652</td>\n",
       "    </tr>\n",
       "    <tr>\n",
       "      <th>5</th>\n",
       "      <td>0</td>\n",
       "      <td>3.2784</td>\n",
       "      <td>0.8454</td>\n",
       "      <td>61.2165</td>\n",
       "      <td>696.392</td>\n",
       "      <td>0</td>\n",
       "      <td>106.186</td>\n",
       "      <td>0</td>\n",
       "      <td>0</td>\n",
       "      <td>0</td>\n",
       "      <td>...</td>\n",
       "      <td>216.17</td>\n",
       "      <td>156.186</td>\n",
       "      <td>75.7732</td>\n",
       "      <td>380.412</td>\n",
       "      <td>1036.6</td>\n",
       "      <td>0.5155</td>\n",
       "      <td>1453.09</td>\n",
       "      <td>4177.32</td>\n",
       "      <td>1769.59</td>\n",
       "      <td>664.433</td>\n",
       "    </tr>\n",
       "    <tr>\n",
       "      <th>6</th>\n",
       "      <td>0</td>\n",
       "      <td>5.5871</td>\n",
       "      <td>13.5182</td>\n",
       "      <td>64.0867</td>\n",
       "      <td>712.488</td>\n",
       "      <td>0</td>\n",
       "      <td>162.628</td>\n",
       "      <td>0</td>\n",
       "      <td>0</td>\n",
       "      <td>0</td>\n",
       "      <td>...</td>\n",
       "      <td>229.459</td>\n",
       "      <td>110.438</td>\n",
       "      <td>75.9553</td>\n",
       "      <td>813.607</td>\n",
       "      <td>1122.09</td>\n",
       "      <td>12.1156</td>\n",
       "      <td>1428.24</td>\n",
       "      <td>3324.79</td>\n",
       "      <td>1918.45</td>\n",
       "      <td>970.643</td>\n",
       "    </tr>\n",
       "    <tr>\n",
       "      <th>...</th>\n",
       "      <td>...</td>\n",
       "      <td>...</td>\n",
       "      <td>...</td>\n",
       "      <td>...</td>\n",
       "      <td>...</td>\n",
       "      <td>...</td>\n",
       "      <td>...</td>\n",
       "      <td>...</td>\n",
       "      <td>...</td>\n",
       "      <td>...</td>\n",
       "      <td>...</td>\n",
       "      <td>...</td>\n",
       "      <td>...</td>\n",
       "      <td>...</td>\n",
       "      <td>...</td>\n",
       "      <td>...</td>\n",
       "      <td>...</td>\n",
       "      <td>...</td>\n",
       "      <td>...</td>\n",
       "      <td>...</td>\n",
       "      <td>...</td>\n",
       "    </tr>\n",
       "    <tr>\n",
       "      <th>111</th>\n",
       "      <td>0</td>\n",
       "      <td>2.3355</td>\n",
       "      <td>2.0787</td>\n",
       "      <td>93.3628</td>\n",
       "      <td>613.162</td>\n",
       "      <td>0</td>\n",
       "      <td>116.372</td>\n",
       "      <td>0.4013</td>\n",
       "      <td>0</td>\n",
       "      <td>0</td>\n",
       "      <td>...</td>\n",
       "      <td>166.095</td>\n",
       "      <td>36.9181</td>\n",
       "      <td>98.3146</td>\n",
       "      <td>487.962</td>\n",
       "      <td>1325.04</td>\n",
       "      <td>1.6051</td>\n",
       "      <td>1891.65</td>\n",
       "      <td>2548.96</td>\n",
       "      <td>1839.09</td>\n",
       "      <td>936.998</td>\n",
       "    </tr>\n",
       "    <tr>\n",
       "      <th>112</th>\n",
       "      <td>0</td>\n",
       "      <td>2.5335</td>\n",
       "      <td>3.7479</td>\n",
       "      <td>95.9003</td>\n",
       "      <td>760.05</td>\n",
       "      <td>0</td>\n",
       "      <td>144.054</td>\n",
       "      <td>0</td>\n",
       "      <td>0</td>\n",
       "      <td>0</td>\n",
       "      <td>...</td>\n",
       "      <td>155.779</td>\n",
       "      <td>55.2764</td>\n",
       "      <td>81.6583</td>\n",
       "      <td>436.767</td>\n",
       "      <td>1090.87</td>\n",
       "      <td>5.8626</td>\n",
       "      <td>1890.28</td>\n",
       "      <td>2906.2</td>\n",
       "      <td>1713.99</td>\n",
       "      <td>865.159</td>\n",
       "    </tr>\n",
       "    <tr>\n",
       "      <th>113</th>\n",
       "      <td>0</td>\n",
       "      <td>1.5032</td>\n",
       "      <td>4.2933</td>\n",
       "      <td>84.4595</td>\n",
       "      <td>765.53</td>\n",
       "      <td>0</td>\n",
       "      <td>64.9213</td>\n",
       "      <td>0.3864</td>\n",
       "      <td>0</td>\n",
       "      <td>0</td>\n",
       "      <td>...</td>\n",
       "      <td>156.12</td>\n",
       "      <td>43.2808</td>\n",
       "      <td>83.8566</td>\n",
       "      <td>547.966</td>\n",
       "      <td>1260.55</td>\n",
       "      <td>8.888</td>\n",
       "      <td>2362.28</td>\n",
       "      <td>2463.92</td>\n",
       "      <td>1949.96</td>\n",
       "      <td>982.707</td>\n",
       "    </tr>\n",
       "    <tr>\n",
       "      <th>114</th>\n",
       "      <td>0</td>\n",
       "      <td>6.8563</td>\n",
       "      <td>11.241</td>\n",
       "      <td>70.5843</td>\n",
       "      <td>1698.04</td>\n",
       "      <td>0</td>\n",
       "      <td>61.5305</td>\n",
       "      <td>0.5171</td>\n",
       "      <td>0</td>\n",
       "      <td>0</td>\n",
       "      <td>...</td>\n",
       "      <td>143.573</td>\n",
       "      <td>16.029</td>\n",
       "      <td>173.216</td>\n",
       "      <td>520.683</td>\n",
       "      <td>1832.99</td>\n",
       "      <td>1.0341</td>\n",
       "      <td>12297.8</td>\n",
       "      <td>1842.3</td>\n",
       "      <td>2440.02</td>\n",
       "      <td>721.303</td>\n",
       "    </tr>\n",
       "    <tr>\n",
       "      <th>115</th>\n",
       "      <td>0</td>\n",
       "      <td>9.9332</td>\n",
       "      <td>5.0207</td>\n",
       "      <td>120.907</td>\n",
       "      <td>665.924</td>\n",
       "      <td>0</td>\n",
       "      <td>283.805</td>\n",
       "      <td>0.3182</td>\n",
       "      <td>0</td>\n",
       "      <td>0</td>\n",
       "      <td>...</td>\n",
       "      <td>235.679</td>\n",
       "      <td>118.995</td>\n",
       "      <td>68.7241</td>\n",
       "      <td>551.702</td>\n",
       "      <td>1216.67</td>\n",
       "      <td>27.0442</td>\n",
       "      <td>977.092</td>\n",
       "      <td>5548.52</td>\n",
       "      <td>1640.47</td>\n",
       "      <td>908.368</td>\n",
       "    </tr>\n",
       "  </tbody>\n",
       "</table>\n",
       "<p>114 rows × 20531 columns</p>\n",
       "</div>"
      ],
      "text/plain": [
       "    1       2        3        4        5     6        7       8     9      \\\n",
       "2       0  4.3333   3.9206  78.9238  978.413     0  219.048  0.9524     0   \n",
       "3       0  4.2087   2.1852   53.638  970.757     0  136.154       0     0   \n",
       "4       0   3.055        0  87.5764  770.367     0   109.98       0     0   \n",
       "5       0  3.2784   0.8454  61.2165  696.392     0  106.186       0     0   \n",
       "6       0  5.5871  13.5182  64.0867  712.488     0  162.628       0     0   \n",
       "..    ...     ...      ...      ...      ...   ...      ...     ...   ...   \n",
       "111     0  2.3355   2.0787  93.3628  613.162     0  116.372  0.4013     0   \n",
       "112     0  2.5335   3.7479  95.9003   760.05     0  144.054       0     0   \n",
       "113     0  1.5032   4.2933  84.4595   765.53     0  64.9213  0.3864     0   \n",
       "114     0  6.8563   11.241  70.5843  1698.04     0  61.5305  0.5171     0   \n",
       "115     0  9.9332   5.0207  120.907  665.924     0  283.805  0.3182     0   \n",
       "\n",
       "    10     ...    20522    20523    20524    20525    20526    20527    20528  \\\n",
       "2       0  ...  247.819  213.333  41.2698  433.333  1034.29  60.3175  745.079   \n",
       "3       0  ...  161.155  144.053  45.5101  374.612  936.906  34.6027  815.045   \n",
       "4       0  ...  98.2688   58.554  94.1955  374.236  1077.39   1.5275  1545.32   \n",
       "5       0  ...   216.17  156.186  75.7732  380.412   1036.6   0.5155  1453.09   \n",
       "6       0  ...  229.459  110.438  75.9553  813.607  1122.09  12.1156  1428.24   \n",
       "..    ...  ...      ...      ...      ...      ...      ...      ...      ...   \n",
       "111     0  ...  166.095  36.9181  98.3146  487.962  1325.04   1.6051  1891.65   \n",
       "112     0  ...  155.779  55.2764  81.6583  436.767  1090.87   5.8626  1890.28   \n",
       "113     0  ...   156.12  43.2808  83.8566  547.966  1260.55    8.888  2362.28   \n",
       "114     0  ...  143.573   16.029  173.216  520.683  1832.99   1.0341  12297.8   \n",
       "115     0  ...  235.679  118.995  68.7241  551.702  1216.67  27.0442  977.092   \n",
       "\n",
       "       20529    20530    20531  \n",
       "2    6455.87  1314.29  968.254  \n",
       "3    6038.93  1477.39  620.968  \n",
       "4     2344.7  1997.96  730.652  \n",
       "5    4177.32  1769.59  664.433  \n",
       "6    3324.79  1918.45  970.643  \n",
       "..       ...      ...      ...  \n",
       "111  2548.96  1839.09  936.998  \n",
       "112   2906.2  1713.99  865.159  \n",
       "113  2463.92  1949.96  982.707  \n",
       "114   1842.3  2440.02  721.303  \n",
       "115  5548.52  1640.47  908.368  \n",
       "\n",
       "[114 rows x 20531 columns]"
      ]
     },
     "execution_count": 10,
     "metadata": {},
     "output_type": "execute_result"
    }
   ],
   "source": [
    "clas"
   ]
  },
  {
   "cell_type": "code",
   "execution_count": null,
   "metadata": {},
   "outputs": [],
   "source": []
  },
  {
   "cell_type": "code",
   "execution_count": null,
   "metadata": {},
   "outputs": [],
   "source": [
    "coad = coad.T\n",
    "\n",
    "coad = coad.drop(0)\n",
    "\n",
    "coad = coad.drop(1)\n",
    "\n",
    "coad = coad.drop(0, axis=1)"
   ]
  },
  {
   "cell_type": "code",
   "execution_count": null,
   "metadata": {},
   "outputs": [],
   "source": [
    "coad"
   ]
  },
  {
   "cell_type": "code",
   "execution_count": null,
   "metadata": {},
   "outputs": [],
   "source": []
  },
  {
   "cell_type": "code",
   "execution_count": null,
   "metadata": {},
   "outputs": [],
   "source": [
    "clas2 = clas2.T\n",
    "\n",
    "clas2 = clas2.drop(0)\n",
    "\n",
    "clas2 = clas2.drop(1)\n",
    "\n",
    "clas2 = clas2.drop(0, axis=1)"
   ]
  },
  {
   "cell_type": "code",
   "execution_count": null,
   "metadata": {},
   "outputs": [],
   "source": [
    "clas2"
   ]
  },
  {
   "cell_type": "code",
   "execution_count": null,
   "metadata": {},
   "outputs": [],
   "source": []
  },
  {
   "cell_type": "code",
   "execution_count": 11,
   "metadata": {},
   "outputs": [],
   "source": [
    "arr0 = []"
   ]
  },
  {
   "cell_type": "code",
   "execution_count": 12,
   "metadata": {},
   "outputs": [],
   "source": [
    "arr0 = ['Câncer' for i in range(1082)]"
   ]
  },
  {
   "cell_type": "code",
   "execution_count": 13,
   "metadata": {},
   "outputs": [],
   "source": [
    "new[\"Classe\"] = arr0"
   ]
  },
  {
   "cell_type": "code",
   "execution_count": null,
   "metadata": {},
   "outputs": [],
   "source": [
    "arr0"
   ]
  },
  {
   "cell_type": "code",
   "execution_count": null,
   "metadata": {},
   "outputs": [],
   "source": []
  },
  {
   "cell_type": "code",
   "execution_count": null,
   "metadata": {},
   "outputs": [],
   "source": [
    "arr = np.arange(1082, dtype=int)"
   ]
  },
  {
   "cell_type": "code",
   "execution_count": null,
   "metadata": {},
   "outputs": [],
   "source": [
    "array = np.full_like(arr, 1)"
   ]
  },
  {
   "cell_type": "code",
   "execution_count": null,
   "metadata": {},
   "outputs": [],
   "source": [
    "new[\"Classe\"] = array"
   ]
  },
  {
   "cell_type": "code",
   "execution_count": null,
   "metadata": {},
   "outputs": [],
   "source": [
    "new"
   ]
  },
  {
   "cell_type": "code",
   "execution_count": null,
   "metadata": {},
   "outputs": [],
   "source": []
  },
  {
   "cell_type": "code",
   "execution_count": 14,
   "metadata": {},
   "outputs": [],
   "source": [
    "arr = []"
   ]
  },
  {
   "cell_type": "code",
   "execution_count": 15,
   "metadata": {},
   "outputs": [],
   "source": [
    "arr = ['Normal' for i in range(114)]"
   ]
  },
  {
   "cell_type": "code",
   "execution_count": null,
   "metadata": {},
   "outputs": [],
   "source": [
    "arr"
   ]
  },
  {
   "cell_type": "code",
   "execution_count": 16,
   "metadata": {},
   "outputs": [],
   "source": [
    "clas[\"Classe\"] = arr"
   ]
  },
  {
   "cell_type": "code",
   "execution_count": null,
   "metadata": {},
   "outputs": [],
   "source": []
  },
  {
   "cell_type": "code",
   "execution_count": null,
   "metadata": {},
   "outputs": [],
   "source": [
    "arr2 = np.arange(114, dtype=int)"
   ]
  },
  {
   "cell_type": "code",
   "execution_count": null,
   "metadata": {},
   "outputs": [],
   "source": [
    "array2 = np.full_like(arr2, 0)"
   ]
  },
  {
   "cell_type": "code",
   "execution_count": null,
   "metadata": {},
   "outputs": [],
   "source": [
    "clas[\"Classe\"] = array2"
   ]
  },
  {
   "cell_type": "code",
   "execution_count": null,
   "metadata": {},
   "outputs": [],
   "source": [
    "clas"
   ]
  },
  {
   "cell_type": "code",
   "execution_count": null,
   "metadata": {},
   "outputs": [],
   "source": []
  },
  {
   "cell_type": "code",
   "execution_count": null,
   "metadata": {},
   "outputs": [],
   "source": [
    "arr1 = []"
   ]
  },
  {
   "cell_type": "code",
   "execution_count": null,
   "metadata": {},
   "outputs": [],
   "source": [
    "arr1 = ['Câncer COAD' for i in range(407)]"
   ]
  },
  {
   "cell_type": "code",
   "execution_count": null,
   "metadata": {},
   "outputs": [],
   "source": [
    "coad[\"Classe\"] = arr1"
   ]
  },
  {
   "cell_type": "code",
   "execution_count": null,
   "metadata": {},
   "outputs": [],
   "source": [
    "coad"
   ]
  },
  {
   "cell_type": "code",
   "execution_count": null,
   "metadata": {},
   "outputs": [],
   "source": []
  },
  {
   "cell_type": "code",
   "execution_count": null,
   "metadata": {},
   "outputs": [],
   "source": [
    "arr2 = []"
   ]
  },
  {
   "cell_type": "code",
   "execution_count": null,
   "metadata": {},
   "outputs": [],
   "source": [
    "arr2 = ['Normal' for i in range(19)]"
   ]
  },
  {
   "cell_type": "code",
   "execution_count": null,
   "metadata": {},
   "outputs": [],
   "source": [
    "clas2[\"Classe\"] = arr2"
   ]
  },
  {
   "cell_type": "code",
   "execution_count": null,
   "metadata": {},
   "outputs": [],
   "source": []
  },
  {
   "cell_type": "code",
   "execution_count": 17,
   "metadata": {},
   "outputs": [],
   "source": [
    "final = new.append(clas, ignore_index=True)"
   ]
  },
  {
   "cell_type": "code",
   "execution_count": null,
   "metadata": {},
   "outputs": [],
   "source": []
  },
  {
   "cell_type": "code",
   "execution_count": null,
   "metadata": {},
   "outputs": [],
   "source": [
    "final = final.append(coad, ignore_index=True)"
   ]
  },
  {
   "cell_type": "code",
   "execution_count": null,
   "metadata": {},
   "outputs": [],
   "source": [
    "final = final.append(clas2, ignore_index=True)"
   ]
  },
  {
   "cell_type": "code",
   "execution_count": null,
   "metadata": {},
   "outputs": [],
   "source": [
    "final"
   ]
  },
  {
   "cell_type": "code",
   "execution_count": null,
   "metadata": {},
   "outputs": [],
   "source": []
  },
  {
   "cell_type": "code",
   "execution_count": 18,
   "metadata": {},
   "outputs": [
    {
     "data": {
      "text/html": [
       "<div>\n",
       "<style scoped>\n",
       "    .dataframe tbody tr th:only-of-type {\n",
       "        vertical-align: middle;\n",
       "    }\n",
       "\n",
       "    .dataframe tbody tr th {\n",
       "        vertical-align: top;\n",
       "    }\n",
       "\n",
       "    .dataframe thead th {\n",
       "        text-align: right;\n",
       "    }\n",
       "</style>\n",
       "<table border=\"1\" class=\"dataframe\">\n",
       "  <thead>\n",
       "    <tr style=\"text-align: right;\">\n",
       "      <th></th>\n",
       "      <th>1</th>\n",
       "      <th>2</th>\n",
       "      <th>3</th>\n",
       "      <th>4</th>\n",
       "      <th>5</th>\n",
       "      <th>6</th>\n",
       "      <th>7</th>\n",
       "      <th>8</th>\n",
       "      <th>9</th>\n",
       "      <th>10</th>\n",
       "      <th>...</th>\n",
       "      <th>20523</th>\n",
       "      <th>20524</th>\n",
       "      <th>20525</th>\n",
       "      <th>20526</th>\n",
       "      <th>20527</th>\n",
       "      <th>20528</th>\n",
       "      <th>20529</th>\n",
       "      <th>20530</th>\n",
       "      <th>20531</th>\n",
       "      <th>Classe</th>\n",
       "    </tr>\n",
       "  </thead>\n",
       "  <tbody>\n",
       "    <tr>\n",
       "      <th>905</th>\n",
       "      <td>0</td>\n",
       "      <td>6.1041</td>\n",
       "      <td>1.4241</td>\n",
       "      <td>113.319</td>\n",
       "      <td>1154.96</td>\n",
       "      <td>0</td>\n",
       "      <td>109.473</td>\n",
       "      <td>0.941</td>\n",
       "      <td>0</td>\n",
       "      <td>0</td>\n",
       "      <td>...</td>\n",
       "      <td>646.487</td>\n",
       "      <td>55.8344</td>\n",
       "      <td>427.854</td>\n",
       "      <td>908.407</td>\n",
       "      <td>42.3463</td>\n",
       "      <td>755.646</td>\n",
       "      <td>3186.32</td>\n",
       "      <td>1485.26</td>\n",
       "      <td>803.325</td>\n",
       "      <td>Câncer</td>\n",
       "    </tr>\n",
       "    <tr>\n",
       "      <th>1027</th>\n",
       "      <td>0</td>\n",
       "      <td>0</td>\n",
       "      <td>4.1973</td>\n",
       "      <td>105.399</td>\n",
       "      <td>1014.69</td>\n",
       "      <td>0</td>\n",
       "      <td>274.921</td>\n",
       "      <td>0</td>\n",
       "      <td>14.6905</td>\n",
       "      <td>0</td>\n",
       "      <td>...</td>\n",
       "      <td>1087.62</td>\n",
       "      <td>24.659</td>\n",
       "      <td>207.24</td>\n",
       "      <td>920.252</td>\n",
       "      <td>192.025</td>\n",
       "      <td>842.078</td>\n",
       "      <td>6962.75</td>\n",
       "      <td>668.415</td>\n",
       "      <td>332.634</td>\n",
       "      <td>Câncer</td>\n",
       "    </tr>\n",
       "    <tr>\n",
       "      <th>582</th>\n",
       "      <td>0</td>\n",
       "      <td>1.9494</td>\n",
       "      <td>5.4268</td>\n",
       "      <td>214.768</td>\n",
       "      <td>820.864</td>\n",
       "      <td>0</td>\n",
       "      <td>238.145</td>\n",
       "      <td>0</td>\n",
       "      <td>0</td>\n",
       "      <td>0</td>\n",
       "      <td>...</td>\n",
       "      <td>348.788</td>\n",
       "      <td>44.2571</td>\n",
       "      <td>358.272</td>\n",
       "      <td>885.669</td>\n",
       "      <td>27.9241</td>\n",
       "      <td>833.509</td>\n",
       "      <td>3297.68</td>\n",
       "      <td>501.581</td>\n",
       "      <td>740.78</td>\n",
       "      <td>Câncer</td>\n",
       "    </tr>\n",
       "    <tr>\n",
       "      <th>931</th>\n",
       "      <td>0</td>\n",
       "      <td>11.3824</td>\n",
       "      <td>15.7494</td>\n",
       "      <td>209.057</td>\n",
       "      <td>2133.72</td>\n",
       "      <td>0</td>\n",
       "      <td>94.3152</td>\n",
       "      <td>0</td>\n",
       "      <td>1.938</td>\n",
       "      <td>0</td>\n",
       "      <td>...</td>\n",
       "      <td>786.176</td>\n",
       "      <td>10.9819</td>\n",
       "      <td>101.421</td>\n",
       "      <td>1323.64</td>\n",
       "      <td>99.4832</td>\n",
       "      <td>475.452</td>\n",
       "      <td>4866.93</td>\n",
       "      <td>579.457</td>\n",
       "      <td>536.822</td>\n",
       "      <td>Câncer</td>\n",
       "    </tr>\n",
       "    <tr>\n",
       "      <th>830</th>\n",
       "      <td>0</td>\n",
       "      <td>18.8152</td>\n",
       "      <td>9.6535</td>\n",
       "      <td>65.665</td>\n",
       "      <td>1514.31</td>\n",
       "      <td>0</td>\n",
       "      <td>506.686</td>\n",
       "      <td>0.2876</td>\n",
       "      <td>0</td>\n",
       "      <td>0</td>\n",
       "      <td>...</td>\n",
       "      <td>2694.18</td>\n",
       "      <td>108.124</td>\n",
       "      <td>1077.5</td>\n",
       "      <td>2069.59</td>\n",
       "      <td>210.496</td>\n",
       "      <td>1193.39</td>\n",
       "      <td>874.191</td>\n",
       "      <td>1525.23</td>\n",
       "      <td>7269.59</td>\n",
       "      <td>Câncer</td>\n",
       "    </tr>\n",
       "    <tr>\n",
       "      <th>...</th>\n",
       "      <td>...</td>\n",
       "      <td>...</td>\n",
       "      <td>...</td>\n",
       "      <td>...</td>\n",
       "      <td>...</td>\n",
       "      <td>...</td>\n",
       "      <td>...</td>\n",
       "      <td>...</td>\n",
       "      <td>...</td>\n",
       "      <td>...</td>\n",
       "      <td>...</td>\n",
       "      <td>...</td>\n",
       "      <td>...</td>\n",
       "      <td>...</td>\n",
       "      <td>...</td>\n",
       "      <td>...</td>\n",
       "      <td>...</td>\n",
       "      <td>...</td>\n",
       "      <td>...</td>\n",
       "      <td>...</td>\n",
       "      <td>...</td>\n",
       "    </tr>\n",
       "    <tr>\n",
       "      <th>223</th>\n",
       "      <td>0</td>\n",
       "      <td>14.6431</td>\n",
       "      <td>2.5982</td>\n",
       "      <td>113.36</td>\n",
       "      <td>850.04</td>\n",
       "      <td>0</td>\n",
       "      <td>101.444</td>\n",
       "      <td>0</td>\n",
       "      <td>0</td>\n",
       "      <td>0</td>\n",
       "      <td>...</td>\n",
       "      <td>660.786</td>\n",
       "      <td>76.9848</td>\n",
       "      <td>581.796</td>\n",
       "      <td>1320.37</td>\n",
       "      <td>121.892</td>\n",
       "      <td>1186.85</td>\n",
       "      <td>3635.12</td>\n",
       "      <td>2219.33</td>\n",
       "      <td>1256.62</td>\n",
       "      <td>Câncer</td>\n",
       "    </tr>\n",
       "    <tr>\n",
       "      <th>1019</th>\n",
       "      <td>0</td>\n",
       "      <td>2.0161</td>\n",
       "      <td>0</td>\n",
       "      <td>46.5054</td>\n",
       "      <td>895.160999999999</td>\n",
       "      <td>0</td>\n",
       "      <td>566.868</td>\n",
       "      <td>1.6801</td>\n",
       "      <td>0</td>\n",
       "      <td>0</td>\n",
       "      <td>...</td>\n",
       "      <td>231.519</td>\n",
       "      <td>64.1801</td>\n",
       "      <td>524.866</td>\n",
       "      <td>1183.8</td>\n",
       "      <td>8.7366</td>\n",
       "      <td>264.113</td>\n",
       "      <td>2852.82</td>\n",
       "      <td>1081.65</td>\n",
       "      <td>422.043</td>\n",
       "      <td>Câncer</td>\n",
       "    </tr>\n",
       "    <tr>\n",
       "      <th>512</th>\n",
       "      <td>0</td>\n",
       "      <td>3.3786</td>\n",
       "      <td>9.6378</td>\n",
       "      <td>155.15</td>\n",
       "      <td>1280.14</td>\n",
       "      <td>0</td>\n",
       "      <td>70.1754</td>\n",
       "      <td>0</td>\n",
       "      <td>0</td>\n",
       "      <td>0</td>\n",
       "      <td>...</td>\n",
       "      <td>967.176</td>\n",
       "      <td>36.7855</td>\n",
       "      <td>324.844</td>\n",
       "      <td>707.98</td>\n",
       "      <td>92.2467</td>\n",
       "      <td>752.122</td>\n",
       "      <td>3973.4</td>\n",
       "      <td>894.171</td>\n",
       "      <td>706.848</td>\n",
       "      <td>Câncer</td>\n",
       "    </tr>\n",
       "    <tr>\n",
       "      <th>889</th>\n",
       "      <td>0</td>\n",
       "      <td>10.5106</td>\n",
       "      <td>4.6688</td>\n",
       "      <td>111.927</td>\n",
       "      <td>1006.44</td>\n",
       "      <td>0</td>\n",
       "      <td>545.078</td>\n",
       "      <td>0</td>\n",
       "      <td>0</td>\n",
       "      <td>0</td>\n",
       "      <td>...</td>\n",
       "      <td>527.599</td>\n",
       "      <td>65.3174</td>\n",
       "      <td>486.661</td>\n",
       "      <td>1254.83</td>\n",
       "      <td>131.095</td>\n",
       "      <td>1033.12</td>\n",
       "      <td>2982.98</td>\n",
       "      <td>842.226</td>\n",
       "      <td>610.856</td>\n",
       "      <td>Câncer</td>\n",
       "    </tr>\n",
       "    <tr>\n",
       "      <th>150</th>\n",
       "      <td>0</td>\n",
       "      <td>30.7158</td>\n",
       "      <td>25.0007</td>\n",
       "      <td>133.416</td>\n",
       "      <td>632.74</td>\n",
       "      <td>0</td>\n",
       "      <td>499.241</td>\n",
       "      <td>0</td>\n",
       "      <td>0</td>\n",
       "      <td>0</td>\n",
       "      <td>...</td>\n",
       "      <td>668.046</td>\n",
       "      <td>60.6813</td>\n",
       "      <td>501.448</td>\n",
       "      <td>1145.22</td>\n",
       "      <td>67.3011</td>\n",
       "      <td>1061.92</td>\n",
       "      <td>4260.93</td>\n",
       "      <td>1343.26</td>\n",
       "      <td>668.046</td>\n",
       "      <td>Câncer</td>\n",
       "    </tr>\n",
       "  </tbody>\n",
       "</table>\n",
       "<p>1196 rows × 20532 columns</p>\n",
       "</div>"
      ],
      "text/plain": [
       "      1        2        3        4                 5  6        7       8  \\\n",
       "905   0   6.1041   1.4241  113.319           1154.96  0  109.473   0.941   \n",
       "1027  0        0   4.1973  105.399           1014.69  0  274.921       0   \n",
       "582   0   1.9494   5.4268  214.768           820.864  0  238.145       0   \n",
       "931   0  11.3824  15.7494  209.057           2133.72  0  94.3152       0   \n",
       "830   0  18.8152   9.6535   65.665           1514.31  0  506.686  0.2876   \n",
       "...  ..      ...      ...      ...               ... ..      ...     ...   \n",
       "223   0  14.6431   2.5982   113.36            850.04  0  101.444       0   \n",
       "1019  0   2.0161        0  46.5054  895.160999999999  0  566.868  1.6801   \n",
       "512   0   3.3786   9.6378   155.15           1280.14  0  70.1754       0   \n",
       "889   0  10.5106   4.6688  111.927           1006.44  0  545.078       0   \n",
       "150   0  30.7158  25.0007  133.416            632.74  0  499.241       0   \n",
       "\n",
       "            9 10  ...    20523    20524    20525    20526    20527    20528  \\\n",
       "905         0  0  ...  646.487  55.8344  427.854  908.407  42.3463  755.646   \n",
       "1027  14.6905  0  ...  1087.62   24.659   207.24  920.252  192.025  842.078   \n",
       "582         0  0  ...  348.788  44.2571  358.272  885.669  27.9241  833.509   \n",
       "931     1.938  0  ...  786.176  10.9819  101.421  1323.64  99.4832  475.452   \n",
       "830         0  0  ...  2694.18  108.124   1077.5  2069.59  210.496  1193.39   \n",
       "...       ... ..  ...      ...      ...      ...      ...      ...      ...   \n",
       "223         0  0  ...  660.786  76.9848  581.796  1320.37  121.892  1186.85   \n",
       "1019        0  0  ...  231.519  64.1801  524.866   1183.8   8.7366  264.113   \n",
       "512         0  0  ...  967.176  36.7855  324.844   707.98  92.2467  752.122   \n",
       "889         0  0  ...  527.599  65.3174  486.661  1254.83  131.095  1033.12   \n",
       "150         0  0  ...  668.046  60.6813  501.448  1145.22  67.3011  1061.92   \n",
       "\n",
       "        20529    20530    20531  Classe  \n",
       "905   3186.32  1485.26  803.325  Câncer  \n",
       "1027  6962.75  668.415  332.634  Câncer  \n",
       "582   3297.68  501.581   740.78  Câncer  \n",
       "931   4866.93  579.457  536.822  Câncer  \n",
       "830   874.191  1525.23  7269.59  Câncer  \n",
       "...       ...      ...      ...     ...  \n",
       "223   3635.12  2219.33  1256.62  Câncer  \n",
       "1019  2852.82  1081.65  422.043  Câncer  \n",
       "512    3973.4  894.171  706.848  Câncer  \n",
       "889   2982.98  842.226  610.856  Câncer  \n",
       "150   4260.93  1343.26  668.046  Câncer  \n",
       "\n",
       "[1196 rows x 20532 columns]"
      ]
     },
     "execution_count": 18,
     "metadata": {},
     "output_type": "execute_result"
    }
   ],
   "source": [
    "dataframe = final.sample(frac = 1)\n",
    "dataframe"
   ]
  },
  {
   "cell_type": "code",
   "execution_count": 19,
   "metadata": {},
   "outputs": [
    {
     "data": {
      "text/html": [
       "<div>\n",
       "<style scoped>\n",
       "    .dataframe tbody tr th:only-of-type {\n",
       "        vertical-align: middle;\n",
       "    }\n",
       "\n",
       "    .dataframe tbody tr th {\n",
       "        vertical-align: top;\n",
       "    }\n",
       "\n",
       "    .dataframe thead th {\n",
       "        text-align: right;\n",
       "    }\n",
       "</style>\n",
       "<table border=\"1\" class=\"dataframe\">\n",
       "  <thead>\n",
       "    <tr style=\"text-align: right;\">\n",
       "      <th></th>\n",
       "      <th>1</th>\n",
       "      <th>2</th>\n",
       "      <th>3</th>\n",
       "      <th>4</th>\n",
       "      <th>5</th>\n",
       "      <th>6</th>\n",
       "      <th>7</th>\n",
       "      <th>8</th>\n",
       "      <th>9</th>\n",
       "      <th>10</th>\n",
       "      <th>...</th>\n",
       "      <th>20523</th>\n",
       "      <th>20524</th>\n",
       "      <th>20525</th>\n",
       "      <th>20526</th>\n",
       "      <th>20527</th>\n",
       "      <th>20528</th>\n",
       "      <th>20529</th>\n",
       "      <th>20530</th>\n",
       "      <th>20531</th>\n",
       "      <th>Classe</th>\n",
       "    </tr>\n",
       "  </thead>\n",
       "  <tbody>\n",
       "    <tr>\n",
       "      <th>0</th>\n",
       "      <td>0</td>\n",
       "      <td>6.1041</td>\n",
       "      <td>1.4241</td>\n",
       "      <td>113.319</td>\n",
       "      <td>1154.96</td>\n",
       "      <td>0</td>\n",
       "      <td>109.473</td>\n",
       "      <td>0.941</td>\n",
       "      <td>0</td>\n",
       "      <td>0</td>\n",
       "      <td>...</td>\n",
       "      <td>646.487</td>\n",
       "      <td>55.8344</td>\n",
       "      <td>427.854</td>\n",
       "      <td>908.407</td>\n",
       "      <td>42.3463</td>\n",
       "      <td>755.646</td>\n",
       "      <td>3186.32</td>\n",
       "      <td>1485.26</td>\n",
       "      <td>803.325</td>\n",
       "      <td>Câncer</td>\n",
       "    </tr>\n",
       "    <tr>\n",
       "      <th>1</th>\n",
       "      <td>0</td>\n",
       "      <td>0</td>\n",
       "      <td>4.1973</td>\n",
       "      <td>105.399</td>\n",
       "      <td>1014.69</td>\n",
       "      <td>0</td>\n",
       "      <td>274.921</td>\n",
       "      <td>0</td>\n",
       "      <td>14.6905</td>\n",
       "      <td>0</td>\n",
       "      <td>...</td>\n",
       "      <td>1087.62</td>\n",
       "      <td>24.659</td>\n",
       "      <td>207.24</td>\n",
       "      <td>920.252</td>\n",
       "      <td>192.025</td>\n",
       "      <td>842.078</td>\n",
       "      <td>6962.75</td>\n",
       "      <td>668.415</td>\n",
       "      <td>332.634</td>\n",
       "      <td>Câncer</td>\n",
       "    </tr>\n",
       "    <tr>\n",
       "      <th>2</th>\n",
       "      <td>0</td>\n",
       "      <td>1.9494</td>\n",
       "      <td>5.4268</td>\n",
       "      <td>214.768</td>\n",
       "      <td>820.864</td>\n",
       "      <td>0</td>\n",
       "      <td>238.145</td>\n",
       "      <td>0</td>\n",
       "      <td>0</td>\n",
       "      <td>0</td>\n",
       "      <td>...</td>\n",
       "      <td>348.788</td>\n",
       "      <td>44.2571</td>\n",
       "      <td>358.272</td>\n",
       "      <td>885.669</td>\n",
       "      <td>27.9241</td>\n",
       "      <td>833.509</td>\n",
       "      <td>3297.68</td>\n",
       "      <td>501.581</td>\n",
       "      <td>740.78</td>\n",
       "      <td>Câncer</td>\n",
       "    </tr>\n",
       "    <tr>\n",
       "      <th>3</th>\n",
       "      <td>0</td>\n",
       "      <td>11.3824</td>\n",
       "      <td>15.7494</td>\n",
       "      <td>209.057</td>\n",
       "      <td>2133.72</td>\n",
       "      <td>0</td>\n",
       "      <td>94.3152</td>\n",
       "      <td>0</td>\n",
       "      <td>1.938</td>\n",
       "      <td>0</td>\n",
       "      <td>...</td>\n",
       "      <td>786.176</td>\n",
       "      <td>10.9819</td>\n",
       "      <td>101.421</td>\n",
       "      <td>1323.64</td>\n",
       "      <td>99.4832</td>\n",
       "      <td>475.452</td>\n",
       "      <td>4866.93</td>\n",
       "      <td>579.457</td>\n",
       "      <td>536.822</td>\n",
       "      <td>Câncer</td>\n",
       "    </tr>\n",
       "    <tr>\n",
       "      <th>4</th>\n",
       "      <td>0</td>\n",
       "      <td>18.8152</td>\n",
       "      <td>9.6535</td>\n",
       "      <td>65.665</td>\n",
       "      <td>1514.31</td>\n",
       "      <td>0</td>\n",
       "      <td>506.686</td>\n",
       "      <td>0.2876</td>\n",
       "      <td>0</td>\n",
       "      <td>0</td>\n",
       "      <td>...</td>\n",
       "      <td>2694.18</td>\n",
       "      <td>108.124</td>\n",
       "      <td>1077.5</td>\n",
       "      <td>2069.59</td>\n",
       "      <td>210.496</td>\n",
       "      <td>1193.39</td>\n",
       "      <td>874.191</td>\n",
       "      <td>1525.23</td>\n",
       "      <td>7269.59</td>\n",
       "      <td>Câncer</td>\n",
       "    </tr>\n",
       "    <tr>\n",
       "      <th>...</th>\n",
       "      <td>...</td>\n",
       "      <td>...</td>\n",
       "      <td>...</td>\n",
       "      <td>...</td>\n",
       "      <td>...</td>\n",
       "      <td>...</td>\n",
       "      <td>...</td>\n",
       "      <td>...</td>\n",
       "      <td>...</td>\n",
       "      <td>...</td>\n",
       "      <td>...</td>\n",
       "      <td>...</td>\n",
       "      <td>...</td>\n",
       "      <td>...</td>\n",
       "      <td>...</td>\n",
       "      <td>...</td>\n",
       "      <td>...</td>\n",
       "      <td>...</td>\n",
       "      <td>...</td>\n",
       "      <td>...</td>\n",
       "      <td>...</td>\n",
       "    </tr>\n",
       "    <tr>\n",
       "      <th>1191</th>\n",
       "      <td>0</td>\n",
       "      <td>14.6431</td>\n",
       "      <td>2.5982</td>\n",
       "      <td>113.36</td>\n",
       "      <td>850.04</td>\n",
       "      <td>0</td>\n",
       "      <td>101.444</td>\n",
       "      <td>0</td>\n",
       "      <td>0</td>\n",
       "      <td>0</td>\n",
       "      <td>...</td>\n",
       "      <td>660.786</td>\n",
       "      <td>76.9848</td>\n",
       "      <td>581.796</td>\n",
       "      <td>1320.37</td>\n",
       "      <td>121.892</td>\n",
       "      <td>1186.85</td>\n",
       "      <td>3635.12</td>\n",
       "      <td>2219.33</td>\n",
       "      <td>1256.62</td>\n",
       "      <td>Câncer</td>\n",
       "    </tr>\n",
       "    <tr>\n",
       "      <th>1192</th>\n",
       "      <td>0</td>\n",
       "      <td>2.0161</td>\n",
       "      <td>0</td>\n",
       "      <td>46.5054</td>\n",
       "      <td>895.160999999999</td>\n",
       "      <td>0</td>\n",
       "      <td>566.868</td>\n",
       "      <td>1.6801</td>\n",
       "      <td>0</td>\n",
       "      <td>0</td>\n",
       "      <td>...</td>\n",
       "      <td>231.519</td>\n",
       "      <td>64.1801</td>\n",
       "      <td>524.866</td>\n",
       "      <td>1183.8</td>\n",
       "      <td>8.7366</td>\n",
       "      <td>264.113</td>\n",
       "      <td>2852.82</td>\n",
       "      <td>1081.65</td>\n",
       "      <td>422.043</td>\n",
       "      <td>Câncer</td>\n",
       "    </tr>\n",
       "    <tr>\n",
       "      <th>1193</th>\n",
       "      <td>0</td>\n",
       "      <td>3.3786</td>\n",
       "      <td>9.6378</td>\n",
       "      <td>155.15</td>\n",
       "      <td>1280.14</td>\n",
       "      <td>0</td>\n",
       "      <td>70.1754</td>\n",
       "      <td>0</td>\n",
       "      <td>0</td>\n",
       "      <td>0</td>\n",
       "      <td>...</td>\n",
       "      <td>967.176</td>\n",
       "      <td>36.7855</td>\n",
       "      <td>324.844</td>\n",
       "      <td>707.98</td>\n",
       "      <td>92.2467</td>\n",
       "      <td>752.122</td>\n",
       "      <td>3973.4</td>\n",
       "      <td>894.171</td>\n",
       "      <td>706.848</td>\n",
       "      <td>Câncer</td>\n",
       "    </tr>\n",
       "    <tr>\n",
       "      <th>1194</th>\n",
       "      <td>0</td>\n",
       "      <td>10.5106</td>\n",
       "      <td>4.6688</td>\n",
       "      <td>111.927</td>\n",
       "      <td>1006.44</td>\n",
       "      <td>0</td>\n",
       "      <td>545.078</td>\n",
       "      <td>0</td>\n",
       "      <td>0</td>\n",
       "      <td>0</td>\n",
       "      <td>...</td>\n",
       "      <td>527.599</td>\n",
       "      <td>65.3174</td>\n",
       "      <td>486.661</td>\n",
       "      <td>1254.83</td>\n",
       "      <td>131.095</td>\n",
       "      <td>1033.12</td>\n",
       "      <td>2982.98</td>\n",
       "      <td>842.226</td>\n",
       "      <td>610.856</td>\n",
       "      <td>Câncer</td>\n",
       "    </tr>\n",
       "    <tr>\n",
       "      <th>1195</th>\n",
       "      <td>0</td>\n",
       "      <td>30.7158</td>\n",
       "      <td>25.0007</td>\n",
       "      <td>133.416</td>\n",
       "      <td>632.74</td>\n",
       "      <td>0</td>\n",
       "      <td>499.241</td>\n",
       "      <td>0</td>\n",
       "      <td>0</td>\n",
       "      <td>0</td>\n",
       "      <td>...</td>\n",
       "      <td>668.046</td>\n",
       "      <td>60.6813</td>\n",
       "      <td>501.448</td>\n",
       "      <td>1145.22</td>\n",
       "      <td>67.3011</td>\n",
       "      <td>1061.92</td>\n",
       "      <td>4260.93</td>\n",
       "      <td>1343.26</td>\n",
       "      <td>668.046</td>\n",
       "      <td>Câncer</td>\n",
       "    </tr>\n",
       "  </tbody>\n",
       "</table>\n",
       "<p>1196 rows × 20532 columns</p>\n",
       "</div>"
      ],
      "text/plain": [
       "      1        2        3        4                 5  6        7       8  \\\n",
       "0     0   6.1041   1.4241  113.319           1154.96  0  109.473   0.941   \n",
       "1     0        0   4.1973  105.399           1014.69  0  274.921       0   \n",
       "2     0   1.9494   5.4268  214.768           820.864  0  238.145       0   \n",
       "3     0  11.3824  15.7494  209.057           2133.72  0  94.3152       0   \n",
       "4     0  18.8152   9.6535   65.665           1514.31  0  506.686  0.2876   \n",
       "...  ..      ...      ...      ...               ... ..      ...     ...   \n",
       "1191  0  14.6431   2.5982   113.36            850.04  0  101.444       0   \n",
       "1192  0   2.0161        0  46.5054  895.160999999999  0  566.868  1.6801   \n",
       "1193  0   3.3786   9.6378   155.15           1280.14  0  70.1754       0   \n",
       "1194  0  10.5106   4.6688  111.927           1006.44  0  545.078       0   \n",
       "1195  0  30.7158  25.0007  133.416            632.74  0  499.241       0   \n",
       "\n",
       "            9 10  ...    20523    20524    20525    20526    20527    20528  \\\n",
       "0           0  0  ...  646.487  55.8344  427.854  908.407  42.3463  755.646   \n",
       "1     14.6905  0  ...  1087.62   24.659   207.24  920.252  192.025  842.078   \n",
       "2           0  0  ...  348.788  44.2571  358.272  885.669  27.9241  833.509   \n",
       "3       1.938  0  ...  786.176  10.9819  101.421  1323.64  99.4832  475.452   \n",
       "4           0  0  ...  2694.18  108.124   1077.5  2069.59  210.496  1193.39   \n",
       "...       ... ..  ...      ...      ...      ...      ...      ...      ...   \n",
       "1191        0  0  ...  660.786  76.9848  581.796  1320.37  121.892  1186.85   \n",
       "1192        0  0  ...  231.519  64.1801  524.866   1183.8   8.7366  264.113   \n",
       "1193        0  0  ...  967.176  36.7855  324.844   707.98  92.2467  752.122   \n",
       "1194        0  0  ...  527.599  65.3174  486.661  1254.83  131.095  1033.12   \n",
       "1195        0  0  ...  668.046  60.6813  501.448  1145.22  67.3011  1061.92   \n",
       "\n",
       "        20529    20530    20531  Classe  \n",
       "0     3186.32  1485.26  803.325  Câncer  \n",
       "1     6962.75  668.415  332.634  Câncer  \n",
       "2     3297.68  501.581   740.78  Câncer  \n",
       "3     4866.93  579.457  536.822  Câncer  \n",
       "4     874.191  1525.23  7269.59  Câncer  \n",
       "...       ...      ...      ...     ...  \n",
       "1191  3635.12  2219.33  1256.62  Câncer  \n",
       "1192  2852.82  1081.65  422.043  Câncer  \n",
       "1193   3973.4  894.171  706.848  Câncer  \n",
       "1194  2982.98  842.226  610.856  Câncer  \n",
       "1195  4260.93  1343.26  668.046  Câncer  \n",
       "\n",
       "[1196 rows x 20532 columns]"
      ]
     },
     "execution_count": 19,
     "metadata": {},
     "output_type": "execute_result"
    }
   ],
   "source": [
    "dataframe = dataframe.reset_index(drop=True)\n",
    "dataframe"
   ]
  },
  {
   "cell_type": "code",
   "execution_count": null,
   "metadata": {},
   "outputs": [],
   "source": [
    "dataframe = pd.DataFrame(dataframe, dtype=float)"
   ]
  },
  {
   "cell_type": "code",
   "execution_count": null,
   "metadata": {},
   "outputs": [],
   "source": [
    "pd.plotting.radviz(dataframe, 'Classe')"
   ]
  },
  {
   "cell_type": "code",
   "execution_count": null,
   "metadata": {},
   "outputs": [],
   "source": []
  },
  {
   "cell_type": "code",
   "execution_count": null,
   "metadata": {},
   "outputs": [],
   "source": [
    "# Utiliza o algoritmo de aprendizado KNN para criar um modelo para classificar os tipos de cancer, sendo treino 75% e teste 25%\n",
    "\n",
    "X_train, X_test, y_train, y_test = train_test_split(dataframe.drop('Classe',axis=1), dataframe['Classe'], test_size=0.25, shuffle=False)\n",
    "\n",
    "knn = KNeighborsClassifier(n_neighbors=7, weights='distance')\n",
    "knn.fit(X_train,y_train)\n",
    "resultado = knn.predict(X_test)\n",
    "\n",
    "# imprime na tela as metricas, como a acu+rácia do modelo, sendo tudo 1.00 100% de acerto\n",
    "\n",
    "print(metrics.classification_report(y_test,resultado))"
   ]
  },
  {
   "cell_type": "code",
   "execution_count": null,
   "metadata": {},
   "outputs": [],
   "source": []
  },
  {
   "cell_type": "code",
   "execution_count": null,
   "metadata": {},
   "outputs": [],
   "source": [
    "tsne = TSNE(n_components=2, random_state=0)\n",
    "projections = tsne.fit_transform(dataframe.drop(\"Classe\", axis=1))"
   ]
  },
  {
   "cell_type": "code",
   "execution_count": null,
   "metadata": {},
   "outputs": [],
   "source": [
    "# imprime na tela o resultado do t-sne com as cores definidas pela respectiva classe.\n",
    "\n",
    "fig = px.scatter(\n",
    "    projections, x=0, y=1,\n",
    "    color=dataframe.Classe, labels={'color': 'Classe'}\n",
    ")\n",
    "fig.show()"
   ]
  },
  {
   "cell_type": "code",
   "execution_count": 20,
   "metadata": {},
   "outputs": [],
   "source": [
    "from sklearn.neural_network import MLPClassifier"
   ]
  },
  {
   "cell_type": "code",
   "execution_count": null,
   "metadata": {},
   "outputs": [],
   "source": []
  },
  {
   "cell_type": "code",
   "execution_count": 21,
   "metadata": {},
   "outputs": [],
   "source": [
    "X = dataframe.drop(\"Classe\", axis=1)"
   ]
  },
  {
   "cell_type": "code",
   "execution_count": 22,
   "metadata": {},
   "outputs": [],
   "source": [
    "y = dataframe[\"Classe\"]"
   ]
  },
  {
   "cell_type": "code",
   "execution_count": null,
   "metadata": {},
   "outputs": [],
   "source": [
    "y"
   ]
  },
  {
   "cell_type": "code",
   "execution_count": null,
   "metadata": {},
   "outputs": [],
   "source": []
  },
  {
   "cell_type": "code",
   "execution_count": null,
   "metadata": {},
   "outputs": [],
   "source": []
  },
  {
   "cell_type": "code",
   "execution_count": 24,
   "metadata": {},
   "outputs": [
    {
     "name": "stdout",
     "output_type": "stream",
     "text": [
      "              precision    recall  f1-score   support\n",
      "\n",
      "      Câncer       0.89      1.00      0.94       265\n",
      "      Normal       0.00      0.00      0.00        34\n",
      "\n",
      "    accuracy                           0.89       299\n",
      "   macro avg       0.44      0.50      0.47       299\n",
      "weighted avg       0.79      0.89      0.83       299\n",
      "\n"
     ]
    },
    {
     "name": "stderr",
     "output_type": "stream",
     "text": [
      "C:\\Users\\Rogonfu\\anaconda3\\lib\\site-packages\\sklearn\\metrics\\_classification.py:1344: UndefinedMetricWarning: Precision and F-score are ill-defined and being set to 0.0 in labels with no predicted samples. Use `zero_division` parameter to control this behavior.\n",
      "  _warn_prf(average, modifier, msg_start, len(result))\n",
      "C:\\Users\\Rogonfu\\anaconda3\\lib\\site-packages\\sklearn\\metrics\\_classification.py:1344: UndefinedMetricWarning: Precision and F-score are ill-defined and being set to 0.0 in labels with no predicted samples. Use `zero_division` parameter to control this behavior.\n",
      "  _warn_prf(average, modifier, msg_start, len(result))\n",
      "C:\\Users\\Rogonfu\\anaconda3\\lib\\site-packages\\sklearn\\metrics\\_classification.py:1344: UndefinedMetricWarning: Precision and F-score are ill-defined and being set to 0.0 in labels with no predicted samples. Use `zero_division` parameter to control this behavior.\n",
      "  _warn_prf(average, modifier, msg_start, len(result))\n"
     ]
    }
   ],
   "source": [
    "# Neural Network\n",
    "\n",
    "X_train, X_test, y_train, y_test = train_test_split(dataframe.drop('Classe',axis=1), dataframe['Classe'], test_size=0.25, shuffle=False)\n",
    "\n",
    "clf = MLPClassifier(solver='lbfgs', alpha=1e-5, hidden_layer_sizes=(5, 2), random_state=1)\n",
    "clf.fit(X_train,y_train)\n",
    "resultado = clf.predict(X_test)\n",
    "\n",
    "print(metrics.classification_report(y_test,resultado))"
   ]
  },
  {
   "cell_type": "code",
   "execution_count": null,
   "metadata": {},
   "outputs": [],
   "source": []
  },
  {
   "cell_type": "code",
   "execution_count": null,
   "metadata": {},
   "outputs": [],
   "source": []
  },
  {
   "cell_type": "code",
   "execution_count": null,
   "metadata": {},
   "outputs": [],
   "source": [
    "lista = selector.get_support(indices=True)"
   ]
  },
  {
   "cell_type": "code",
   "execution_count": null,
   "metadata": {},
   "outputs": [],
   "source": [
    "selector"
   ]
  },
  {
   "cell_type": "code",
   "execution_count": null,
   "metadata": {},
   "outputs": [],
   "source": []
  },
  {
   "cell_type": "code",
   "execution_count": null,
   "metadata": {},
   "outputs": [],
   "source": []
  },
  {
   "cell_type": "code",
   "execution_count": null,
   "metadata": {},
   "outputs": [],
   "source": []
  },
  {
   "cell_type": "code",
   "execution_count": null,
   "metadata": {},
   "outputs": [],
   "source": [
    "X_new = SelectKBest(f_classif, k=10)"
   ]
  },
  {
   "cell_type": "code",
   "execution_count": null,
   "metadata": {},
   "outputs": [],
   "source": [
    "nov = X_new.fit_transform(X, y)"
   ]
  },
  {
   "cell_type": "code",
   "execution_count": null,
   "metadata": {},
   "outputs": [],
   "source": [
    "liste = X_new.get_support(indices=True)"
   ]
  },
  {
   "cell_type": "code",
   "execution_count": null,
   "metadata": {},
   "outputs": [],
   "source": []
  },
  {
   "cell_type": "code",
   "execution_count": null,
   "metadata": {},
   "outputs": [],
   "source": []
  },
  {
   "cell_type": "code",
   "execution_count": null,
   "metadata": {},
   "outputs": [],
   "source": [
    "liste = liste - 1"
   ]
  },
  {
   "cell_type": "code",
   "execution_count": null,
   "metadata": {},
   "outputs": [],
   "source": [
    "liste"
   ]
  },
  {
   "cell_type": "code",
   "execution_count": null,
   "metadata": {},
   "outputs": [],
   "source": [
    "feat = df.columns[liste]"
   ]
  },
  {
   "cell_type": "code",
   "execution_count": null,
   "metadata": {},
   "outputs": [],
   "source": [
    "feat"
   ]
  },
  {
   "cell_type": "code",
   "execution_count": null,
   "metadata": {},
   "outputs": [],
   "source": []
  },
  {
   "cell_type": "code",
   "execution_count": null,
   "metadata": {},
   "outputs": [],
   "source": [
    "liste = [205, 20,20529, 2052, 2, 20526, 20525]"
   ]
  },
  {
   "cell_type": "code",
   "execution_count": null,
   "metadata": {},
   "outputs": [],
   "source": [
    "new = new.T"
   ]
  },
  {
   "cell_type": "code",
   "execution_count": null,
   "metadata": {},
   "outputs": [],
   "source": [
    "sea1 = pd.DataFrame(new.loc[0:114], dtype=float)\n",
    "sea1 = sea1[sea1.columns[liste]]"
   ]
  },
  {
   "cell_type": "code",
   "execution_count": null,
   "metadata": {},
   "outputs": [],
   "source": [
    "fi = sb.heatmap(sea1, xticklabels=feat).figure.set_size_inches(20, 10)"
   ]
  },
  {
   "cell_type": "code",
   "execution_count": null,
   "metadata": {},
   "outputs": [],
   "source": [
    "sea2 = pd.DataFrame(clas, dtype=float)\n",
    "sea2 = sea2[sea2.columns[liste]]"
   ]
  },
  {
   "cell_type": "code",
   "execution_count": null,
   "metadata": {},
   "outputs": [],
   "source": [
    "fi2 = sb.heatmap(sea2, xticklabels=feat).figure.set_size_inches(20, 10)"
   ]
  },
  {
   "cell_type": "code",
   "execution_count": null,
   "metadata": {},
   "outputs": [],
   "source": []
  },
  {
   "cell_type": "code",
   "execution_count": null,
   "metadata": {},
   "outputs": [],
   "source": []
  },
  {
   "cell_type": "code",
   "execution_count": null,
   "metadata": {},
   "outputs": [],
   "source": []
  },
  {
   "cell_type": "code",
   "execution_count": null,
   "metadata": {},
   "outputs": [],
   "source": [
    "fi = pd.DataFrame(nov, dtype=float)"
   ]
  },
  {
   "cell_type": "code",
   "execution_count": null,
   "metadata": {},
   "outputs": [],
   "source": [
    "fi[\"Classe\"] = y"
   ]
  },
  {
   "cell_type": "code",
   "execution_count": null,
   "metadata": {},
   "outputs": [],
   "source": [
    "fi = fi.drop('Classe', axis=1)"
   ]
  },
  {
   "cell_type": "code",
   "execution_count": null,
   "metadata": {},
   "outputs": [],
   "source": [
    "fi.columns = feat"
   ]
  },
  {
   "cell_type": "code",
   "execution_count": null,
   "metadata": {},
   "outputs": [],
   "source": [
    "fi"
   ]
  },
  {
   "cell_type": "code",
   "execution_count": null,
   "metadata": {},
   "outputs": [],
   "source": [
    "busc = fi.loc[fi[\"Classe\"] == \"Câncer\"]"
   ]
  },
  {
   "cell_type": "code",
   "execution_count": null,
   "metadata": {},
   "outputs": [],
   "source": [
    "busc"
   ]
  },
  {
   "cell_type": "code",
   "execution_count": null,
   "metadata": {},
   "outputs": [],
   "source": [
    "pd.plotting.radviz(fi, 'Classe')"
   ]
  },
  {
   "cell_type": "code",
   "execution_count": null,
   "metadata": {},
   "outputs": [],
   "source": [
    "# Utiliza o algoritmo de aprendizado KNN para criar um modelo para classificar os tipos de cancer, sendo treino 75% e teste 25%\n",
    "\n",
    "X_train, X_test, y_train, y_test = train_test_split(fi.drop('Classe',axis=1), fi['Classe'], test_size=0.25, shuffle=False)\n",
    "\n",
    "knn = KNeighborsClassifier(n_neighbors=7, weights='distance')\n",
    "knn.fit(X_train,y_train)\n",
    "resultado = knn.predict(X_test)\n",
    "\n",
    "# imprime na tela as metricas, como a acurácia do modelo, sendo tudo 1.00 100% de acerto\n",
    "\n",
    "print(metrics.classification_report(y_test,resultado))"
   ]
  },
  {
   "cell_type": "code",
   "execution_count": null,
   "metadata": {},
   "outputs": [],
   "source": [
    "tsne = TSNE(n_components=2, random_state=0)\n",
    "projections = tsne.fit_transform(fi.drop(\"Classe\", axis=1))"
   ]
  },
  {
   "cell_type": "code",
   "execution_count": null,
   "metadata": {},
   "outputs": [],
   "source": [
    "fig = px.scatter(\n",
    "    projections, x=0, y=1,\n",
    "    color=fi.Classe, labels={'color': 'Classe'}\n",
    ")\n",
    "fig.show()"
   ]
  },
  {
   "cell_type": "code",
   "execution_count": null,
   "metadata": {},
   "outputs": [],
   "source": [
    "projections"
   ]
  },
  {
   "cell_type": "code",
   "execution_count": null,
   "metadata": {},
   "outputs": [],
   "source": [
    "tes = pd.DataFrame(projections, dtyoe=float)"
   ]
  },
  {
   "cell_type": "code",
   "execution_count": null,
   "metadata": {},
   "outputs": [],
   "source": [
    "\n",
    "from nltk.cluster import KMeansClusterer\n",
    "from nltk.cluster import euclidean_distance"
   ]
  },
  {
   "cell_type": "code",
   "execution_count": null,
   "metadata": {},
   "outputs": [],
   "source": []
  },
  {
   "cell_type": "code",
   "execution_count": null,
   "metadata": {},
   "outputs": [],
   "source": [
    "km = X\n",
    "\n",
    "# dataset vira coluna por linhas e linhas por coluna sem as classes\n",
    "\n",
    "km = km.T"
   ]
  },
  {
   "cell_type": "code",
   "execution_count": null,
   "metadata": {},
   "outputs": [],
   "source": [
    "x = np.array(km, dtype=float)"
   ]
  },
  {
   "cell_type": "code",
   "execution_count": null,
   "metadata": {},
   "outputs": [],
   "source": [
    "# executa o k-means para ter como resultado 10 caracteristicas apenas\n",
    "\n",
    "kmeans = KMeansClusterer(100, euclidean_distance, avoid_empty_clusters=True)\n",
    "var = kmeans.cluster(x, True)"
   ]
  },
  {
   "cell_type": "code",
   "execution_count": null,
   "metadata": {},
   "outputs": [],
   "source": [
    "# pega apenas os centroids do k-means e coloca em um dataset transformando linhas em colunas novamente para ter o dataset reduzido\n",
    "\n",
    "novo = np.array(kmeans.means())\n",
    "novo = np.array(novo.T)\n",
    "data = pd.DataFrame(novo)"
   ]
  },
  {
   "cell_type": "code",
   "execution_count": null,
   "metadata": {},
   "outputs": [],
   "source": [
    "data[\"Classe\"] = y"
   ]
  },
  {
   "cell_type": "code",
   "execution_count": null,
   "metadata": {},
   "outputs": [],
   "source": []
  },
  {
   "cell_type": "code",
   "execution_count": null,
   "metadata": {},
   "outputs": [],
   "source": [
    "tsne = TSNE(n_components=2, random_state=0)\n",
    "projections = tsne.fit_transform(data.drop(\"Classe\", axis=1))"
   ]
  },
  {
   "cell_type": "code",
   "execution_count": null,
   "metadata": {},
   "outputs": [],
   "source": [
    "fig = px.scatter(\n",
    "    projections, x=0, y=1,\n",
    "    color=data.Classe,\n",
    ")\n",
    "fig.show()"
   ]
  },
  {
   "cell_type": "code",
   "execution_count": null,
   "metadata": {},
   "outputs": [],
   "source": []
  }
 ],
 "metadata": {
  "kernelspec": {
   "display_name": "Python 3",
   "language": "python",
   "name": "python3"
  },
  "language_info": {
   "codemirror_mode": {
    "name": "ipython",
    "version": 3
   },
   "file_extension": ".py",
   "mimetype": "text/x-python",
   "name": "python",
   "nbconvert_exporter": "python",
   "pygments_lexer": "ipython3",
   "version": "3.8.5"
  }
 },
 "nbformat": 4,
 "nbformat_minor": 4
}
